{
  "nbformat": 4,
  "nbformat_minor": 0,
  "metadata": {
    "colab": {
      "provenance": [],
      "collapsed_sections": [],
      "include_colab_link": true
    },
    "kernelspec": {
      "display_name": "Julia",
      "language": "julia",
      "name": "julia"
    },
    "language_info": {
      "file_extension": ".jl",
      "mimetype": "application/julia",
      "name": "julia"
    }
  },
  "cells": [
    {
      "cell_type": "markdown",
      "metadata": {
        "id": "view-in-github",
        "colab_type": "text"
      },
      "source": [
        "<a href=\"https://colab.research.google.com/github/dnguyend/Manifolds.jl/blob/master/misc_stiefel_frechet/StiefelFrechetLogJulia.ipynb\" target=\"_parent\"><img src=\"https://colab.research.google.com/assets/colab-badge.svg\" alt=\"Open In Colab\"/></a>"
      ]
    },
    {
      "cell_type": "markdown",
      "metadata": {
        "id": "tQ1r1bbb0yBv"
      },
      "source": [
        "## Proposal to incorporate the algorithm to compute Riemannian logarithm on Stiefel manifold with submersion (deformation) metrics using Frechet derivatives.\n",
        "* The metric family includes both embedded and canonical metrics.\n",
        "\n",
        "* We [implement](https://github.com/dnguyend/Manifolds.jl/blob/master/src/expm_frechet.jl) Frechet derivatives for the matrix exponential in Julia (not available in LinearAlgebra) - porting the function expm_frechet_algo_64 in scipy.linalg. This function is of general interest so probably should be included in the LinearAlgbra package (raised in [LinearAlgebra, issue 5840](https://github.com/JuliaLang/julia/issues/5840) ). \n",
        "* Our version of Riemannian logarithm [is implemented](https://github.com/dnguyend/Manifolds.jl/blob/master/src/manifolds/StiefelFrechet.jl) as the method *log_lbfgs*. We compute the exact gradient of the cost function, the square Euclidean distance of the geodesic end point $Y(1)$ to the tartget point $q$, with $Y(0) = p$. The gradient is expressed using Frechet derivatives. The algorithm calls the LBFGS optimizer in Optim (new dependency is required). This is an alternative to the function *log* in StiefelSubmersionMetric.jl\n",
        "\n",
        "* One modification versus the method described in [[1]](https://link.springer.com/article/10.1007/s10957-022-02012-3) is we call LBFGS to optimize up to a distance *pretol*. After that we just run a simple descent based on the distance. This modification help speed up the algorithm.\n",
        "* The new algorithm compares well with the log function for StiefelSubmersionMetric.\n",
        "* We also implemented the geodesic formula 3.2 in [[1]](https://link.springer.com/article/10.1007/s10957-022-02012-3) in function \n",
        "# More details:\n",
        "* For expm_frechet\n",
        " * in [src/expm_frechet.jl](https://github.com/dnguyend/Manifolds.jl/blob/master/src/expm_frechet.jl)\n",
        " * We verified numerically the result, using the definition of Frechet derivative as a directional derivative, and compare with scipy. \n",
        " * We implement a version with pre-allocated memory (*expm_frechet!*) useful in a loop where the Frechet derivative is called repeatedly. A simple version (*expm_frechet*) is also implemented.\n",
        " * Timewise, *expm_frechet!* executes typically 3 times for less than the execution time for $exp$, while *expm_frechet* takes between 3 to 4 times.\n",
        "* For log_lbfgs:\n",
        "  * In [src/manifolds/StiefelFrechet.jl](https://github.com/dnguyend/Manifolds.jl/blob/master/src/manifolds/StiefelFrechet.jl)\n",
        "  * For longer distance, a pretol of 1e-5 produces better result.\n",
        "  * When data is generated using a higher intial velocity, geodesic distance could be shorter than the data generating vector.\n",
        "\n",
        "[1] Nguyen, D. Closed-form Geodesics and Optimization for Riemannian Logarithms of Stiefel and Flag Manifolds. J Optim Theory Appl 194, 142–166 (2022). https://doi.org/10.1007/s10957-022-02012-3\n"
      ]
    },
    {
      "cell_type": "markdown",
      "source": [
        "\n",
        "## The workbook could be viewed as is, but could also be run in a colab environment.\n",
        "## Instructions to run the workbook\n",
        "\n",
        "# <img src=\"https://github.com/JuliaLang/julia-logo-graphics/raw/master/images/julia-logo-color.png\" height=\"100\" /> _Colab \n",
        "\n",
        "1. Execute the following cell (click on it and press Ctrl+Enter) to install Julia, IJulia and other packages (if needed, update `JULIA_VERSION` and the other parameters). **This takes a couple of minutes.**\n",
        "2. **Reload this page (press Ctrl+R, or ⌘+R, or the F5 key) and continue to the next section.**\n",
        "\n",
        "_Notes_:\n",
        "* If your Colab Runtime gets reset (e.g., due to inactivity), repeat steps 1 and 2.\n",
        "* After installation, if you want to change the Julia version or activate/deactivate the GPU, you will need to reset the Runtime: _Runtime_ > _Factory reset runtime_ and repeat steps 1 and 2."
      ],
      "metadata": {
        "id": "74nLeSzZVZ8d"
      }
    },
    {
      "cell_type": "code",
      "metadata": {
        "id": "GIeFXS0F0zww",
        "colab": {
          "base_uri": "https://localhost:8080/"
        },
        "outputId": "93c1b07f-42b7-4526-c470-abf509febbfa"
      },
      "source": [
        "%%shell\n",
        "set -e\n",
        "\n",
        "#---------------------------------------------------#\n",
        "JULIA_VERSION=\"1.6.0\" # any version ≥ 0.7.0\n",
        "JULIA_PACKAGES=\"IJulia BenchmarkTools Plots\"\n",
        "JULIA_PACKAGES_IF_GPU=\"CUDA\" # or CuArrays for older Julia versions\n",
        "JULIA_NUM_THREADS=2\n",
        "#---------------------------------------------------#\n",
        "\n",
        "if [ -n \"$COLAB_GPU\" ] && [ -z `which julia` ]; then\n",
        "  # Install Julia\n",
        "  JULIA_VER=`cut -d '.' -f -2 <<< \"$JULIA_VERSION\"`\n",
        "  echo \"Installing Julia $JULIA_VERSION on the current Colab Runtime...\"\n",
        "  BASE_URL=\"https://julialang-s3.julialang.org/bin/linux/x64\"\n",
        "  URL=\"$BASE_URL/$JULIA_VER/julia-$JULIA_VERSION-linux-x86_64.tar.gz\"\n",
        "  wget -nv $URL -O /tmp/julia.tar.gz # -nv means \"not verbose\"\n",
        "  tar -x -f /tmp/julia.tar.gz -C /usr/local --strip-components 1\n",
        "  rm /tmp/julia.tar.gz\n",
        "\n",
        "  # Install Packages\n",
        "  if [ \"$COLAB_GPU\" = \"1\" ]; then\n",
        "      JULIA_PACKAGES=\"$JULIA_PACKAGES $JULIA_PACKAGES_IF_GPU\"\n",
        "  fi\n",
        "  for PKG in `echo $JULIA_PACKAGES`; do\n",
        "    echo \"Installing Julia package $PKG...\"\n",
        "    julia -e 'using Pkg; pkg\"add '$PKG'; precompile;\"' &> /dev/null\n",
        "  done\n",
        "\n",
        "  # Install kernel and rename it to \"julia\"\n",
        "  echo \"Installing IJulia kernel...\"\n",
        "  julia -e 'using IJulia; IJulia.installkernel(\"julia\", env=Dict(\n",
        "      \"JULIA_NUM_THREADS\"=>\"'\"$JULIA_NUM_THREADS\"'\"))'\n",
        "  KERNEL_DIR=`julia -e \"using IJulia; print(IJulia.kerneldir())\"`\n",
        "  KERNEL_NAME=`ls -d \"$KERNEL_DIR\"/julia*`\n",
        "  mv -f $KERNEL_NAME \"$KERNEL_DIR\"/julia  \n",
        "\n",
        "  echo ''\n",
        "  echo \"Success! Please reload this page and jump to the next section.\"\n",
        "fi"
      ],
      "execution_count": null,
      "outputs": [
        {
          "output_type": "stream",
          "name": "stdout",
          "text": [
            "Installing Julia 1.6.0 on the current Colab Runtime...\n",
            "2022-10-23 21:35:33 URL:https://storage.googleapis.com/julialang2/bin/linux/x64/1.6/julia-1.6.0-linux-x86_64.tar.gz [112838927/112838927] -> \"/tmp/julia.tar.gz\" [1]\n",
            "Installing Julia package IJulia...\n",
            "Installing Julia package BenchmarkTools...\n",
            "Installing Julia package Plots...\n",
            "Installing IJulia kernel...\n",
            "\u001b[36m\u001b[1m[ \u001b[22m\u001b[39m\u001b[36m\u001b[1mInfo: \u001b[22m\u001b[39mInstalling julia kernelspec in /root/.local/share/jupyter/kernels/julia-1.6\n",
            "\n",
            "Success! Please reload this page and jump to the next section.\n"
          ]
        },
        {
          "output_type": "execute_result",
          "data": {
            "text/plain": []
          },
          "metadata": {},
          "execution_count": 1
        }
      ]
    },
    {
      "cell_type": "markdown",
      "metadata": {
        "id": "-OS3Ac017T1i"
      },
      "source": [
        "# Checking the Installation\n",
        "**REMEMBER TO RELOAD THE PAGE BY RUNNING F5 IF the following command does not work**\n",
        "\n",
        "The `versioninfo()` function should print your Julia version and some other info about the system:"
      ]
    },
    {
      "cell_type": "code",
      "metadata": {
        "id": "EEzvvzCl1i0F",
        "colab": {
          "base_uri": "https://localhost:8080/"
        },
        "outputId": "0461be81-8100-4c64-929f-7ac4c43fa3b5"
      },
      "source": [
        "versioninfo()"
      ],
      "execution_count": 1,
      "outputs": [
        {
          "output_type": "stream",
          "name": "stdout",
          "text": [
            "Julia Version 1.6.0\n",
            "Commit f9720dc2eb (2021-03-24 12:55 UTC)\n",
            "Platform Info:\n",
            "  OS: Linux (x86_64-pc-linux-gnu)\n",
            "  CPU: Intel(R) Xeon(R) CPU @ 2.20GHz\n",
            "  WORD_SIZE: 64\n",
            "  LIBM: libopenlibm\n",
            "  LLVM: libLLVM-11.0.1 (ORCJIT, broadwell)\n",
            "Environment:\n",
            "  JULIA_NUM_THREADS = 2\n"
          ]
        }
      ]
    },
    {
      "cell_type": "code",
      "metadata": {
        "id": "yQlpeR9wNOi8"
      },
      "source": [
        "using BenchmarkTools\n",
        "using LinearAlgebra"
      ],
      "execution_count": 2,
      "outputs": []
    },
    {
      "cell_type": "markdown",
      "source": [
        "Load the forked version of Manifolds.jl"
      ],
      "metadata": {
        "id": "HapeXgcMymSr"
      }
    },
    {
      "cell_type": "code",
      "metadata": {
        "colab": {
          "base_uri": "https://localhost:8080/"
        },
        "id": "aUEZNE5Dcuqk",
        "outputId": "489e1906-bad0-4ba5-b03c-b6ca8628ab30"
      },
      "source": [
        "using Pkg\n",
        "Pkg.add(url=\"https://github.com/dnguyend/Manifolds.jl\")"
      ],
      "execution_count": 3,
      "outputs": [
        {
          "output_type": "stream",
          "name": "stderr",
          "text": [
            "\u001b[32m\u001b[1m     Cloning\u001b[22m\u001b[39m git-repo `https://github.com/dnguyend/Manifolds.jl`\n",
            "\u001b[32m\u001b[1m    Updating\u001b[22m\u001b[39m git-repo `https://github.com/dnguyend/Manifolds.jl`\n",
            "\u001b[32m\u001b[1m    Updating\u001b[22m\u001b[39m registry at `~/.julia/registries/General`\n",
            "\u001b[32m\u001b[1m   Resolving\u001b[22m\u001b[39m package versions...\n",
            "\u001b[32m\u001b[1m   Installed\u001b[22m\u001b[39m ZygoteRules ──────────────────── v0.2.2\n",
            "\u001b[32m\u001b[1m   Installed\u001b[22m\u001b[39m HypergeometricFunctions ──────── v0.3.11\n",
            "\u001b[32m\u001b[1m   Installed\u001b[22m\u001b[39m SimpleTraits ─────────────────── v0.9.4\n",
            "\u001b[32m\u001b[1m   Installed\u001b[22m\u001b[39m FiniteDiff ───────────────────── v2.15.0\n",
            "\u001b[32m\u001b[1m   Installed\u001b[22m\u001b[39m DiffRules ────────────────────── v1.12.0\n",
            "\u001b[32m\u001b[1m   Installed\u001b[22m\u001b[39m RecursiveArrayTools ──────────── v2.32.0\n",
            "\u001b[32m\u001b[1m   Installed\u001b[22m\u001b[39m StaticArrays ─────────────────── v1.5.9\n",
            "\u001b[32m\u001b[1m   Installed\u001b[22m\u001b[39m Calculus ─────────────────────── v0.5.1\n",
            "\u001b[32m\u001b[1m   Installed\u001b[22m\u001b[39m IteratorInterfaceExtensions ──── v1.0.0\n",
            "\u001b[32m\u001b[1m   Installed\u001b[22m\u001b[39m Inflate ──────────────────────── v0.1.3\n",
            "\u001b[32m\u001b[1m   Installed\u001b[22m\u001b[39m GPUArraysCore ────────────────── v0.1.2\n",
            "\u001b[32m\u001b[1m   Installed\u001b[22m\u001b[39m ArnoldiMethod ────────────────── v0.2.0\n",
            "\u001b[32m\u001b[1m   Installed\u001b[22m\u001b[39m ManifoldsBase ────────────────── v0.13.22\n",
            "\u001b[32m\u001b[1m   Installed\u001b[22m\u001b[39m StatsFuns ────────────────────── v1.0.1\n",
            "\u001b[32m\u001b[1m   Installed\u001b[22m\u001b[39m DataValueInterfaces ──────────── v1.0.0\n",
            "\u001b[32m\u001b[1m   Installed\u001b[22m\u001b[39m Tables ───────────────────────── v1.10.0\n",
            "\u001b[32m\u001b[1m   Installed\u001b[22m\u001b[39m ArrayInterfaceCore ───────────── v0.1.23\n",
            "\u001b[32m\u001b[1m   Installed\u001b[22m\u001b[39m Rmath ────────────────────────── v0.7.0\n",
            "\u001b[32m\u001b[1m   Installed\u001b[22m\u001b[39m Adapt ────────────────────────── v3.4.0\n",
            "\u001b[32m\u001b[1m   Installed\u001b[22m\u001b[39m QuadGK ───────────────────────── v2.5.0\n",
            "\u001b[32m\u001b[1m   Installed\u001b[22m\u001b[39m AbstractFFTs ─────────────────── v1.2.1\n",
            "\u001b[32m\u001b[1m   Installed\u001b[22m\u001b[39m LinearMaps ───────────────────── v3.8.0\n",
            "\u001b[32m\u001b[1m   Installed\u001b[22m\u001b[39m NamedDims ────────────────────── v0.2.50\n",
            "\u001b[32m\u001b[1m   Installed\u001b[22m\u001b[39m TableTraits ──────────────────── v1.0.1\n",
            "\u001b[32m\u001b[1m   Installed\u001b[22m\u001b[39m PositiveFactorizations ───────── v0.2.4\n",
            "\u001b[32m\u001b[1m   Installed\u001b[22m\u001b[39m FillArrays ───────────────────── v0.13.5\n",
            "\u001b[32m\u001b[1m   Installed\u001b[22m\u001b[39m Distributions ────────────────── v0.25.76\n",
            "\u001b[32m\u001b[1m   Installed\u001b[22m\u001b[39m Graphs ───────────────────────── v1.7.4\n",
            "\u001b[32m\u001b[1m   Installed\u001b[22m\u001b[39m Rmath_jll ────────────────────── v0.3.0+0\n",
            "\u001b[32m\u001b[1m   Installed\u001b[22m\u001b[39m DualNumbers ──────────────────── v0.6.8\n",
            "\u001b[32m\u001b[1m   Installed\u001b[22m\u001b[39m HybridArrays ─────────────────── v0.4.13\n",
            "\u001b[32m\u001b[1m   Installed\u001b[22m\u001b[39m Parameters ───────────────────── v0.12.3\n",
            "\u001b[32m\u001b[1m   Installed\u001b[22m\u001b[39m ForwardDiff ──────────────────── v0.10.32\n",
            "\u001b[32m\u001b[1m   Installed\u001b[22m\u001b[39m DensityInterface ─────────────── v0.4.0\n",
            "\u001b[32m\u001b[1m   Installed\u001b[22m\u001b[39m SimpleWeightedGraphs ─────────── v1.2.1\n",
            "\u001b[32m\u001b[1m   Installed\u001b[22m\u001b[39m ArrayInterfaceStaticArraysCore ─ v0.1.3\n",
            "\u001b[32m\u001b[1m   Installed\u001b[22m\u001b[39m PDMats ───────────────────────── v0.11.16\n",
            "\u001b[32m\u001b[1m   Installed\u001b[22m\u001b[39m CovarianceEstimation ─────────── v0.2.8\n",
            "\u001b[32m\u001b[1m   Installed\u001b[22m\u001b[39m MatrixEquations ──────────────── v2.2.2\n",
            "\u001b[32m\u001b[1m   Installed\u001b[22m\u001b[39m ConstructionBase ─────────────── v1.4.1\n",
            "\u001b[32m\u001b[1m   Installed\u001b[22m\u001b[39m Optim ────────────────────────── v1.7.3\n",
            "\u001b[32m\u001b[1m   Installed\u001b[22m\u001b[39m Kronecker ────────────────────── v0.5.3\n",
            "\u001b[32m\u001b[1m   Installed\u001b[22m\u001b[39m CommonSubexpressions ─────────── v0.3.0\n",
            "\u001b[32m\u001b[1m   Installed\u001b[22m\u001b[39m Einsum ───────────────────────── v0.4.1\n",
            "\u001b[32m\u001b[1m   Installed\u001b[22m\u001b[39m NLSolversBase ────────────────── v7.8.2\n",
            "\u001b[32m\u001b[1m   Installed\u001b[22m\u001b[39m LineSearches ─────────────────── v7.2.0\n",
            "\u001b[32m\u001b[1m   Installed\u001b[22m\u001b[39m Quaternions ──────────────────── v0.6.0\n",
            "\u001b[32m\u001b[1m   Installed\u001b[22m\u001b[39m DiffResults ──────────────────── v1.1.0\n",
            "\u001b[32m\u001b[1m   Installed\u001b[22m\u001b[39m UnPack ───────────────────────── v1.0.2\n",
            "\u001b[32m\u001b[1m   Installed\u001b[22m\u001b[39m StaticArraysCore ─────────────── v1.4.0\n",
            "\u001b[32m\u001b[1m   Installed\u001b[22m\u001b[39m Setfield ─────────────────────── v1.1.1\n",
            "\u001b[32m\u001b[1m    Updating\u001b[22m\u001b[39m `~/.julia/environments/v1.6/Project.toml`\n",
            " \u001b[90m [1cead3c2] \u001b[39m\u001b[92m+ Manifolds v0.8.35 `https://github.com/dnguyend/Manifolds.jl#master`\u001b[39m\n",
            "\u001b[32m\u001b[1m    Updating\u001b[22m\u001b[39m `~/.julia/environments/v1.6/Manifest.toml`\n",
            " \u001b[90m [621f4979] \u001b[39m\u001b[92m+ AbstractFFTs v1.2.1\u001b[39m\n",
            " \u001b[90m [79e6a3ab] \u001b[39m\u001b[92m+ Adapt v3.4.0\u001b[39m\n",
            " \u001b[90m [ec485272] \u001b[39m\u001b[92m+ ArnoldiMethod v0.2.0\u001b[39m\n",
            " \u001b[90m [30b0a656] \u001b[39m\u001b[92m+ ArrayInterfaceCore v0.1.23\u001b[39m\n",
            " \u001b[90m [dd5226c6] \u001b[39m\u001b[92m+ ArrayInterfaceStaticArraysCore v0.1.3\u001b[39m\n",
            " \u001b[90m [49dc2e85] \u001b[39m\u001b[92m+ Calculus v0.5.1\u001b[39m\n",
            " \u001b[90m [bbf7d656] \u001b[39m\u001b[92m+ CommonSubexpressions v0.3.0\u001b[39m\n",
            " \u001b[90m [187b0558] \u001b[39m\u001b[92m+ ConstructionBase v1.4.1\u001b[39m\n",
            " \u001b[90m [587fd27a] \u001b[39m\u001b[92m+ CovarianceEstimation v0.2.8\u001b[39m\n",
            " \u001b[90m [e2d170a0] \u001b[39m\u001b[92m+ DataValueInterfaces v1.0.0\u001b[39m\n",
            " \u001b[90m [b429d917] \u001b[39m\u001b[92m+ DensityInterface v0.4.0\u001b[39m\n",
            " \u001b[90m [163ba53b] \u001b[39m\u001b[92m+ DiffResults v1.1.0\u001b[39m\n",
            " \u001b[90m [b552c78f] \u001b[39m\u001b[92m+ DiffRules v1.12.0\u001b[39m\n",
            " \u001b[90m [31c24e10] \u001b[39m\u001b[92m+ Distributions v0.25.76\u001b[39m\n",
            " \u001b[90m [fa6b7ba4] \u001b[39m\u001b[92m+ DualNumbers v0.6.8\u001b[39m\n",
            " \u001b[90m [b7d42ee7] \u001b[39m\u001b[92m+ Einsum v0.4.1\u001b[39m\n",
            " \u001b[90m [1a297f60] \u001b[39m\u001b[92m+ FillArrays v0.13.5\u001b[39m\n",
            " \u001b[90m [6a86dc24] \u001b[39m\u001b[92m+ FiniteDiff v2.15.0\u001b[39m\n",
            " \u001b[90m [f6369f11] \u001b[39m\u001b[92m+ ForwardDiff v0.10.32\u001b[39m\n",
            " \u001b[90m [46192b85] \u001b[39m\u001b[92m+ GPUArraysCore v0.1.2\u001b[39m\n",
            " \u001b[90m [86223c79] \u001b[39m\u001b[92m+ Graphs v1.7.4\u001b[39m\n",
            " \u001b[90m [1baab800] \u001b[39m\u001b[92m+ HybridArrays v0.4.13\u001b[39m\n",
            " \u001b[90m [34004b35] \u001b[39m\u001b[92m+ HypergeometricFunctions v0.3.11\u001b[39m\n",
            " \u001b[90m [d25df0c9] \u001b[39m\u001b[92m+ Inflate v0.1.3\u001b[39m\n",
            " \u001b[90m [82899510] \u001b[39m\u001b[92m+ IteratorInterfaceExtensions v1.0.0\u001b[39m\n",
            " \u001b[90m [2c470bb0] \u001b[39m\u001b[92m+ Kronecker v0.5.3\u001b[39m\n",
            " \u001b[90m [d3d80556] \u001b[39m\u001b[92m+ LineSearches v7.2.0\u001b[39m\n",
            " \u001b[90m [7a12625a] \u001b[39m\u001b[92m+ LinearMaps v3.8.0\u001b[39m\n",
            " \u001b[90m [1cead3c2] \u001b[39m\u001b[92m+ Manifolds v0.8.35 `https://github.com/dnguyend/Manifolds.jl#master`\u001b[39m\n",
            " \u001b[90m [3362f125] \u001b[39m\u001b[92m+ ManifoldsBase v0.13.22\u001b[39m\n",
            " \u001b[90m [99c1a7ee] \u001b[39m\u001b[92m+ MatrixEquations v2.2.2\u001b[39m\n",
            " \u001b[90m [d41bc354] \u001b[39m\u001b[92m+ NLSolversBase v7.8.2\u001b[39m\n",
            " \u001b[90m [356022a1] \u001b[39m\u001b[92m+ NamedDims v0.2.50\u001b[39m\n",
            " \u001b[90m [429524aa] \u001b[39m\u001b[92m+ Optim v1.7.3\u001b[39m\n",
            " \u001b[90m [90014a1f] \u001b[39m\u001b[92m+ PDMats v0.11.16\u001b[39m\n",
            " \u001b[90m [d96e819e] \u001b[39m\u001b[92m+ Parameters v0.12.3\u001b[39m\n",
            " \u001b[90m [85a6dd25] \u001b[39m\u001b[92m+ PositiveFactorizations v0.2.4\u001b[39m\n",
            " \u001b[90m [1fd47b50] \u001b[39m\u001b[92m+ QuadGK v2.5.0\u001b[39m\n",
            " \u001b[90m [94ee1d12] \u001b[39m\u001b[92m+ Quaternions v0.6.0\u001b[39m\n",
            " \u001b[90m [731186ca] \u001b[39m\u001b[92m+ RecursiveArrayTools v2.32.0\u001b[39m\n",
            " \u001b[90m [79098fc4] \u001b[39m\u001b[92m+ Rmath v0.7.0\u001b[39m\n",
            " \u001b[90m [efcf1570] \u001b[39m\u001b[92m+ Setfield v1.1.1\u001b[39m\n",
            " \u001b[90m [699a6c99] \u001b[39m\u001b[92m+ SimpleTraits v0.9.4\u001b[39m\n",
            " \u001b[90m [47aef6b3] \u001b[39m\u001b[92m+ SimpleWeightedGraphs v1.2.1\u001b[39m\n",
            " \u001b[90m [90137ffa] \u001b[39m\u001b[92m+ StaticArrays v1.5.9\u001b[39m\n",
            " \u001b[90m [1e83bf80] \u001b[39m\u001b[92m+ StaticArraysCore v1.4.0\u001b[39m\n",
            " \u001b[90m [4c63d2b9] \u001b[39m\u001b[92m+ StatsFuns v1.0.1\u001b[39m\n",
            " \u001b[90m [3783bdb8] \u001b[39m\u001b[92m+ TableTraits v1.0.1\u001b[39m\n",
            " \u001b[90m [bd369af6] \u001b[39m\u001b[92m+ Tables v1.10.0\u001b[39m\n",
            " \u001b[90m [3a884ed6] \u001b[39m\u001b[92m+ UnPack v1.0.2\u001b[39m\n",
            " \u001b[90m [700de1a5] \u001b[39m\u001b[92m+ ZygoteRules v0.2.2\u001b[39m\n",
            " \u001b[90m [f50d1b31] \u001b[39m\u001b[92m+ Rmath_jll v0.3.0+0\u001b[39m\n",
            " \u001b[90m [8ba89e20] \u001b[39m\u001b[92m+ Distributed\u001b[39m\n",
            " \u001b[90m [9fa8497b] \u001b[39m\u001b[92m+ Future\u001b[39m\n",
            " \u001b[90m [1a1011a3] \u001b[39m\u001b[92m+ SharedArrays\u001b[39m\n",
            " \u001b[90m [4607b0f0] \u001b[39m\u001b[92m+ SuiteSparse\u001b[39m\n",
            "\u001b[32m\u001b[1mPrecompiling\u001b[22m\u001b[39m project...\n",
            "\u001b[32m  ✓ \u001b[39m\u001b[90mUnPack\u001b[39m\n",
            "\u001b[32m  ✓ \u001b[39m\u001b[90mPositiveFactorizations\u001b[39m\n",
            "\u001b[32m  ✓ \u001b[39m\u001b[90mIteratorInterfaceExtensions\u001b[39m\n",
            "\u001b[32m  ✓ \u001b[39m\u001b[90mFillArrays\u001b[39m\n",
            "\u001b[32m  ✓ \u001b[39m\u001b[90mAdapt\u001b[39m\n",
            "\u001b[32m  ✓ \u001b[39m\u001b[90mSimpleTraits\u001b[39m\n",
            "\u001b[32m  ✓ \u001b[39m\u001b[90mCommonSubexpressions\u001b[39m\n",
            "\u001b[32m  ✓ \u001b[39m\u001b[90mArrayInterfaceCore\u001b[39m\n",
            "\u001b[32m  ✓ \u001b[39m\u001b[90mLinearMaps\u001b[39m\n",
            "\u001b[32m  ✓ \u001b[39m\u001b[90mRmath_jll\u001b[39m\n",
            "\u001b[32m  ✓ \u001b[39m\u001b[90mDataValueInterfaces\u001b[39m\n",
            "\u001b[32m  ✓ \u001b[39m\u001b[90mManifoldsBase\u001b[39m\n",
            "\u001b[32m  ✓ \u001b[39m\u001b[90mStaticArraysCore\u001b[39m\n",
            "\u001b[32m  ✓ \u001b[39m\u001b[90mConstructionBase\u001b[39m\n",
            "\u001b[32m  ✓ \u001b[39m\u001b[90mEinsum\u001b[39m\n",
            "\u001b[32m  ✓ \u001b[39m\u001b[90mQuaternions\u001b[39m\n",
            "\u001b[32m  ✓ \u001b[39m\u001b[90mCalculus\u001b[39m\n",
            "\u001b[32m  ✓ \u001b[39m\u001b[90mPDMats\u001b[39m\n",
            "\u001b[32m  ✓ \u001b[39m\u001b[90mInflate\u001b[39m\n",
            "\u001b[32m  ✓ \u001b[39m\u001b[90mZygoteRules\u001b[39m\n",
            "\u001b[32m  ✓ \u001b[39m\u001b[90mDensityInterface\u001b[39m\n",
            "\u001b[32m  ✓ \u001b[39m\u001b[90mAbstractFFTs\u001b[39m\n",
            "\u001b[32m  ✓ \u001b[39m\u001b[90mQuadGK\u001b[39m\n",
            "\u001b[32m  ✓ \u001b[39m\u001b[90mDiffRules\u001b[39m\n",
            "\u001b[32m  ✓ \u001b[39m\u001b[90mParameters\u001b[39m\n",
            "\u001b[32m  ✓ \u001b[39m\u001b[90mTableTraits\u001b[39m\n",
            "\u001b[32m  ✓ \u001b[39m\u001b[90mCovarianceEstimation\u001b[39m\n",
            "\u001b[32m  ✓ \u001b[39m\u001b[90mGPUArraysCore\u001b[39m\n",
            "\u001b[32m  ✓ \u001b[39m\u001b[90mArrayInterfaceStaticArraysCore\u001b[39m\n",
            "\u001b[32m  ✓ \u001b[39m\u001b[90mRmath\u001b[39m\n",
            "\u001b[32m  ✓ \u001b[39m\u001b[90mDiffResults\u001b[39m\n",
            "\u001b[32m  ✓ \u001b[39m\u001b[90mMatrixEquations\u001b[39m\n",
            "\u001b[32m  ✓ \u001b[39m\u001b[90mSetfield\u001b[39m\n",
            "\u001b[32m  ✓ \u001b[39m\u001b[90mDualNumbers\u001b[39m\n",
            "\u001b[32m  ✓ \u001b[39m\u001b[90mTables\u001b[39m\n",
            "\u001b[32m  ✓ \u001b[39m\u001b[90mNamedDims\u001b[39m\n",
            "\u001b[32m  ✓ \u001b[39m\u001b[90mHypergeometricFunctions\u001b[39m\n",
            "\u001b[32m  ✓ \u001b[39m\u001b[90mKronecker\u001b[39m\n",
            "\u001b[32m  ✓ \u001b[39m\u001b[90mRecursiveArrayTools\u001b[39m\n",
            "\u001b[32m  ✓ \u001b[39m\u001b[90mStaticArrays\u001b[39m\n",
            "\u001b[32m  ✓ \u001b[39m\u001b[90mStatsFuns\u001b[39m\n",
            "\u001b[32m  ✓ \u001b[39m\u001b[90mFiniteDiff\u001b[39m\n",
            "\u001b[32m  ✓ \u001b[39m\u001b[90mHybridArrays\u001b[39m\n",
            "\u001b[32m  ✓ \u001b[39m\u001b[90mArnoldiMethod\u001b[39m\n",
            "\u001b[32m  ✓ \u001b[39m\u001b[90mForwardDiff\u001b[39m\n",
            "\u001b[32m  ✓ \u001b[39m\u001b[90mNLSolversBase\u001b[39m\n",
            "\u001b[32m  ✓ \u001b[39m\u001b[90mGraphs\u001b[39m\n",
            "\u001b[32m  ✓ \u001b[39m\u001b[90mDistributions\u001b[39m\n",
            "\u001b[32m  ✓ \u001b[39m\u001b[90mSimpleWeightedGraphs\u001b[39m\n",
            "\u001b[32m  ✓ \u001b[39m\u001b[90mLineSearches\u001b[39m\n",
            "\u001b[32m  ✓ \u001b[39m\u001b[90mOptim\u001b[39m\n",
            "\u001b[32m  ✓ \u001b[39mManifolds\n",
            "52 dependencies successfully precompiled in 79 seconds (140 already precompiled)\n"
          ]
        }
      ]
    },
    {
      "cell_type": "markdown",
      "source": [
        "# Test expm_frechet! and expm_frechet"
      ],
      "metadata": {
        "id": "2RUJnIg9CfYd"
      }
    },
    {
      "cell_type": "code",
      "source": [
        "using Manifolds\n",
        "using Printf\n",
        "using Random\n",
        "\n",
        "function linf(mat)\n",
        "  return maximum(abs.(mat))\n",
        "end  \n",
        "\n",
        "Random.seed!(0)\n",
        "\n",
        "dlt = 1e-7\n",
        "function test_one(n, Anorm)\n",
        "  buff = Array{Float64, 2}(undef, 16*n, n)\n",
        "\n",
        "  # set up view - for expm_frechet!, first 2 blocks of buff are the returns, exp(A) and the Frechet derivative\n",
        "  # $\\lim_{t\\to 0}\\frac{1}{t}(exp(A+ tE) - exp(A))$\n",
        "  @views begin\n",
        "      expA = buff[1:n, :]\n",
        "      expAE = buff[n+1:2*n, :]\n",
        "  end\n",
        "\n",
        "  ft = (rand() + .1)*Anorm/1.1\n",
        "  A = rand(n, n)\n",
        "\n",
        "  A = A / norm(A, 2)*ft\n",
        "  E = rand(n, n)\n",
        "  E = E / norm(E, 2)*ft\n",
        "\n",
        "  Manifolds.expm_frechet!(buff, A, E)\n",
        "  expA1, expAE1 = Manifolds.expm_frechet(A, E)\n",
        "\n",
        "\n",
        "  @printf \"compare with LinearAlgebra diff=%.5e\\n\" linf(expA - exp(A))\n",
        "  @printf \"compare 2 versions exp(A) diff=%.5e\\n\" linf(expA1 - expA)\n",
        "  @printf \"compare 2 versions exp(A) diff=%.5e\\n\" linf(expAE1 - expAE)\n",
        "  @printf \"compare numerical derivative diff=%.5e\\n\" linf((exp(A+dlt*E) - exp(A))/dlt - expAE)  \n",
        "end\n",
        "test_one(3, 10)\n",
        "test_one(100, 4)"
      ],
      "metadata": {
        "colab": {
          "base_uri": "https://localhost:8080/"
        },
        "id": "Q6G5eh6p-XZf",
        "outputId": "38b1d257-78d0-44ea-ad2a-311d65b5963d"
      },
      "execution_count": 9,
      "outputs": [
        {
          "output_type": "stream",
          "name": "stdout",
          "text": [
            "compare with LinearAlgebra diff=1.59162e-12\n",
            "compare 2 versions exp(A) diff=0.00000e+00\n",
            "compare 2 versions exp(A) diff=0.00000e+00\n",
            "compare numerical derivative diff=1.13569e-03\n",
            "compare with LinearAlgebra diff=4.44089e-16\n",
            "compare 2 versions exp(A) diff=0.00000e+00\n",
            "compare 2 versions exp(A) diff=0.00000e+00\n",
            "compare numerical derivative diff=7.06184e-08\n"
          ]
        }
      ]
    },
    {
      "cell_type": "markdown",
      "source": [
        "* Benchmark"
      ],
      "metadata": {
        "id": "oBhQ9pFREiT4"
      }
    },
    {
      "cell_type": "code",
      "source": [
        "display(@benchmark exp(A))\n",
        "display(@benchmark Manifolds.expm_frechet(A, E))\n",
        "display(@benchmark Manifolds.expm_frechet!(buff, A, E))"
      ],
      "metadata": {
        "colab": {
          "base_uri": "https://localhost:8080/",
          "height": 565
        },
        "id": "kc45YQM9BNcQ",
        "outputId": "e55a25e4-4de0-4b9e-a95d-3b97e4772356"
      },
      "execution_count": 10,
      "outputs": [
        {
          "output_type": "display_data",
          "data": {
            "text/plain": [
              "BenchmarkTools.Trial: 3220 samples with 1 evaluation.\n",
              " Range \u001b[90m(\u001b[39m\u001b[36m\u001b[1mmin\u001b[22m\u001b[39m … \u001b[35mmax\u001b[39m\u001b[90m):  \u001b[39m\u001b[36m\u001b[1m1.197 ms\u001b[22m\u001b[39m … \u001b[35m24.276 ms\u001b[39m  \u001b[90m┊\u001b[39m GC \u001b[90m(\u001b[39mmin … max\u001b[90m): \u001b[39m0.00% …  0.00%\n",
              " Time  \u001b[90m(\u001b[39m\u001b[34m\u001b[1mmedian\u001b[22m\u001b[39m\u001b[90m):     \u001b[39m\u001b[34m\u001b[1m1.298 ms              \u001b[22m\u001b[39m\u001b[90m┊\u001b[39m GC \u001b[90m(\u001b[39mmedian\u001b[90m):    \u001b[39m0.00%\n",
              " Time  \u001b[90m(\u001b[39m\u001b[32m\u001b[1mmean\u001b[22m\u001b[39m ± \u001b[32mσ\u001b[39m\u001b[90m):   \u001b[39m\u001b[32m\u001b[1m1.530 ms\u001b[22m\u001b[39m ± \u001b[32m 1.208 ms\u001b[39m  \u001b[90m┊\u001b[39m GC \u001b[90m(\u001b[39mmean ± σ\u001b[90m):  \u001b[39m9.91% ± 12.75%\n",
              "\n",
              "  \u001b[39m█\u001b[34m▇\u001b[39m\u001b[39m▄\u001b[32m▂\u001b[39m\u001b[39m \u001b[39m \u001b[39m \u001b[39m \u001b[39m \u001b[39m \u001b[39m \u001b[39m \u001b[39m \u001b[39m \u001b[39m \u001b[39m \u001b[39m \u001b[39m \u001b[39m \u001b[39m \u001b[39m \u001b[39m \u001b[39m \u001b[39m \u001b[39m \u001b[39m \u001b[39m \u001b[39m \u001b[39m \u001b[39m \u001b[39m \u001b[39m \u001b[39m \u001b[39m \u001b[39m \u001b[39m \u001b[39m \u001b[39m \u001b[39m \u001b[39m \u001b[39m \u001b[39m \u001b[39m \u001b[39m \u001b[39m \u001b[39m \u001b[39m \u001b[39m \u001b[39m \u001b[39m \u001b[39m \u001b[39m \u001b[39m \u001b[39m \u001b[39m \u001b[39m \u001b[39m \u001b[39m \u001b[39m \u001b[39m▁\n",
              "  \u001b[39m█\u001b[34m█\u001b[39m\u001b[39m█\u001b[32m█\u001b[39m\u001b[39m█\u001b[39m▆\u001b[39m▅\u001b[39m▃\u001b[39m▄\u001b[39m▃\u001b[39m▅\u001b[39m▅\u001b[39m▃\u001b[39m▁\u001b[39m▅\u001b[39m▄\u001b[39m▄\u001b[39m▁\u001b[39m▄\u001b[39m▃\u001b[39m▃\u001b[39m▃\u001b[39m▅\u001b[39m▃\u001b[39m▁\u001b[39m▅\u001b[39m▁\u001b[39m▁\u001b[39m▁\u001b[39m▁\u001b[39m▁\u001b[39m▃\u001b[39m▁\u001b[39m▁\u001b[39m▁\u001b[39m▁\u001b[39m▁\u001b[39m▁\u001b[39m▁\u001b[39m▁\u001b[39m▁\u001b[39m▁\u001b[39m▁\u001b[39m▁\u001b[39m▁\u001b[39m▁\u001b[39m▁\u001b[39m▃\u001b[39m▆\u001b[39m█\u001b[39m▇\u001b[39m▇\u001b[39m▆\u001b[39m▄\u001b[39m▁\u001b[39m▁\u001b[39m▃\u001b[39m▅\u001b[39m \u001b[39m█\n",
              "  1.2 ms\u001b[90m       \u001b[39m\u001b[90mHistogram: \u001b[39m\u001b[90m\u001b[1mlog(\u001b[22m\u001b[39m\u001b[90mfrequency\u001b[39m\u001b[90m\u001b[1m)\u001b[22m\u001b[39m\u001b[90m by time\u001b[39m     7.34 ms \u001b[0m\u001b[1m<\u001b[22m\n",
              "\n",
              " Memory estimate\u001b[90m: \u001b[39m\u001b[33m1.22 MiB\u001b[39m, allocs estimate\u001b[90m: \u001b[39m\u001b[33m35\u001b[39m."
            ]
          },
          "metadata": {}
        },
        {
          "output_type": "display_data",
          "data": {
            "text/plain": [
              "BenchmarkTools.Trial: 1093 samples with 1 evaluation.\n",
              " Range \u001b[90m(\u001b[39m\u001b[36m\u001b[1mmin\u001b[22m\u001b[39m … \u001b[35mmax\u001b[39m\u001b[90m):  \u001b[39m\u001b[36m\u001b[1m3.092 ms\u001b[22m\u001b[39m … \u001b[35m23.965 ms\u001b[39m  \u001b[90m┊\u001b[39m GC \u001b[90m(\u001b[39mmin … max\u001b[90m): \u001b[39m 0.00% … 24.15%\n",
              " Time  \u001b[90m(\u001b[39m\u001b[34m\u001b[1mmedian\u001b[22m\u001b[39m\u001b[90m):     \u001b[39m\u001b[34m\u001b[1m3.653 ms              \u001b[22m\u001b[39m\u001b[90m┊\u001b[39m GC \u001b[90m(\u001b[39mmedian\u001b[90m):    \u001b[39m 0.00%\n",
              " Time  \u001b[90m(\u001b[39m\u001b[32m\u001b[1mmean\u001b[22m\u001b[39m ± \u001b[32mσ\u001b[39m\u001b[90m):   \u001b[39m\u001b[32m\u001b[1m4.526 ms\u001b[22m\u001b[39m ± \u001b[32m 2.379 ms\u001b[39m  \u001b[90m┊\u001b[39m GC \u001b[90m(\u001b[39mmean ± σ\u001b[90m):  \u001b[39m16.12% ± 19.62%\n",
              "\n",
              "  \u001b[39m█\u001b[39m▅\u001b[39m▅\u001b[39m▇\u001b[34m▆\u001b[39m\u001b[39m▄\u001b[39m▄\u001b[39m▃\u001b[39m▁\u001b[32m \u001b[39m\u001b[39m \u001b[39m \u001b[39m \u001b[39m \u001b[39m \u001b[39m \u001b[39m \u001b[39m \u001b[39m \u001b[39m \u001b[39m \u001b[39m \u001b[39m \u001b[39m \u001b[39m \u001b[39m \u001b[39m \u001b[39m \u001b[39m \u001b[39m \u001b[39m \u001b[39m \u001b[39m \u001b[39m \u001b[39m \u001b[39m▁\u001b[39m▂\u001b[39m▂\u001b[39m \u001b[39m \u001b[39m \u001b[39m \u001b[39m \u001b[39m \u001b[39m \u001b[39m \u001b[39m \u001b[39m▁\u001b[39m \u001b[39m \u001b[39m \u001b[39m \u001b[39m \u001b[39m \u001b[39m \u001b[39m \u001b[39m \u001b[39m \u001b[39m \u001b[39m \n",
              "  \u001b[39m█\u001b[39m█\u001b[39m█\u001b[39m█\u001b[34m█\u001b[39m\u001b[39m█\u001b[39m█\u001b[39m█\u001b[39m█\u001b[32m▇\u001b[39m\u001b[39m█\u001b[39m▅\u001b[39m▅\u001b[39m▄\u001b[39m▅\u001b[39m▄\u001b[39m▁\u001b[39m▄\u001b[39m▅\u001b[39m▁\u001b[39m▁\u001b[39m▁\u001b[39m▅\u001b[39m▄\u001b[39m▅\u001b[39m▁\u001b[39m▁\u001b[39m▁\u001b[39m▁\u001b[39m▁\u001b[39m▄\u001b[39m▁\u001b[39m▁\u001b[39m▆\u001b[39m█\u001b[39m█\u001b[39m█\u001b[39m█\u001b[39m▇\u001b[39m▆\u001b[39m▇\u001b[39m▄\u001b[39m▄\u001b[39m▄\u001b[39m▅\u001b[39m▇\u001b[39m▇\u001b[39m█\u001b[39m▇\u001b[39m▇\u001b[39m▅\u001b[39m▄\u001b[39m▁\u001b[39m▅\u001b[39m▁\u001b[39m▁\u001b[39m▁\u001b[39m▅\u001b[39m \u001b[39m█\n",
              "  3.09 ms\u001b[90m      \u001b[39m\u001b[90mHistogram: \u001b[39m\u001b[90m\u001b[1mlog(\u001b[22m\u001b[39m\u001b[90mfrequency\u001b[39m\u001b[90m\u001b[1m)\u001b[22m\u001b[39m\u001b[90m by time\u001b[39m     11.9 ms \u001b[0m\u001b[1m<\u001b[22m\n",
              "\n",
              " Memory estimate\u001b[90m: \u001b[39m\u001b[33m5.96 MiB\u001b[39m, allocs estimate\u001b[90m: \u001b[39m\u001b[33m181\u001b[39m."
            ]
          },
          "metadata": {}
        },
        {
          "output_type": "display_data",
          "data": {
            "text/plain": [
              "BenchmarkTools.Trial: 1137 samples with 1 evaluation.\n",
              " Range \u001b[90m(\u001b[39m\u001b[36m\u001b[1mmin\u001b[22m\u001b[39m … \u001b[35mmax\u001b[39m\u001b[90m):  \u001b[39m\u001b[36m\u001b[1m3.320 ms\u001b[22m\u001b[39m … \u001b[35m19.945 ms\u001b[39m  \u001b[90m┊\u001b[39m GC \u001b[90m(\u001b[39mmin … max\u001b[90m): \u001b[39m0.00% … 52.82%\n",
              " Time  \u001b[90m(\u001b[39m\u001b[34m\u001b[1mmedian\u001b[22m\u001b[39m\u001b[90m):     \u001b[39m\u001b[34m\u001b[1m3.627 ms              \u001b[22m\u001b[39m\u001b[90m┊\u001b[39m GC \u001b[90m(\u001b[39mmedian\u001b[90m):    \u001b[39m0.00%\n",
              " Time  \u001b[90m(\u001b[39m\u001b[32m\u001b[1mmean\u001b[22m\u001b[39m ± \u001b[32mσ\u001b[39m\u001b[90m):   \u001b[39m\u001b[32m\u001b[1m4.354 ms\u001b[22m\u001b[39m ± \u001b[32m 2.092 ms\u001b[39m  \u001b[90m┊\u001b[39m GC \u001b[90m(\u001b[39mmean ± σ\u001b[90m):  \u001b[39m8.41% ± 14.15%\n",
              "\n",
              "  \u001b[39m█\u001b[39m█\u001b[34m█\u001b[39m\u001b[39m▆\u001b[39m▅\u001b[39m▃\u001b[39m▁\u001b[39m▁\u001b[32m \u001b[39m\u001b[39m \u001b[39m \u001b[39m \u001b[39m \u001b[39m \u001b[39m \u001b[39m \u001b[39m \u001b[39m \u001b[39m \u001b[39m \u001b[39m \u001b[39m \u001b[39m \u001b[39m \u001b[39m \u001b[39m \u001b[39m \u001b[39m \u001b[39m \u001b[39m \u001b[39m \u001b[39m \u001b[39m \u001b[39m \u001b[39m \u001b[39m \u001b[39m \u001b[39m \u001b[39m \u001b[39m \u001b[39m \u001b[39m \u001b[39m \u001b[39m \u001b[39m \u001b[39m▁\u001b[39m▁\u001b[39m \u001b[39m \u001b[39m \u001b[39m \u001b[39m \u001b[39m \u001b[39m \u001b[39m \u001b[39m \u001b[39m \u001b[39m \u001b[39m \u001b[39m \n",
              "  \u001b[39m█\u001b[39m█\u001b[34m█\u001b[39m\u001b[39m█\u001b[39m█\u001b[39m█\u001b[39m█\u001b[39m█\u001b[32m▇\u001b[39m\u001b[39m▆\u001b[39m▅\u001b[39m▁\u001b[39m▄\u001b[39m▁\u001b[39m▁\u001b[39m▅\u001b[39m▄\u001b[39m▄\u001b[39m▄\u001b[39m▁\u001b[39m▄\u001b[39m▄\u001b[39m▁\u001b[39m▄\u001b[39m▁\u001b[39m▁\u001b[39m▁\u001b[39m▄\u001b[39m▁\u001b[39m▁\u001b[39m▁\u001b[39m▆\u001b[39m▇\u001b[39m▆\u001b[39m▆\u001b[39m█\u001b[39m▇\u001b[39m▇\u001b[39m▆\u001b[39m▁\u001b[39m▇\u001b[39m▆\u001b[39m▇\u001b[39m▇\u001b[39m▇\u001b[39m█\u001b[39m█\u001b[39m█\u001b[39m▆\u001b[39m▇\u001b[39m▅\u001b[39m▅\u001b[39m▄\u001b[39m▆\u001b[39m▅\u001b[39m▅\u001b[39m▁\u001b[39m▆\u001b[39m \u001b[39m█\n",
              "  3.32 ms\u001b[90m      \u001b[39m\u001b[90mHistogram: \u001b[39m\u001b[90m\u001b[1mlog(\u001b[22m\u001b[39m\u001b[90mfrequency\u001b[39m\u001b[90m\u001b[1m)\u001b[22m\u001b[39m\u001b[90m by time\u001b[39m     10.7 ms \u001b[0m\u001b[1m<\u001b[22m\n",
              "\n",
              " Memory estimate\u001b[90m: \u001b[39m\u001b[33m2.83 MiB\u001b[39m, allocs estimate\u001b[90m: \u001b[39m\u001b[33m91\u001b[39m."
            ]
          },
          "metadata": {}
        }
      ]
    },
    {
      "cell_type": "markdown",
      "source": [
        "We also dump expm_frechet for 500 samples of matrices and compare with python in folder [test_expm_frechet](https://github.com/dnguyend/Manifolds.jl/tree/master/misc_stiefel_frechet/test_expm_frechet), a simple [python script](https://github.com/dnguyend/Manifolds.jl/blob/master/misc_stiefel_frechet/check_expm.py) read the jld files and compare with scipy.linalg.expm_frechet. Discrepency with Python is in the order of 1e-11."
      ],
      "metadata": {
        "id": "TL5dxELbG8uL"
      }
    },
    {
      "cell_type": "markdown",
      "source": [
        "## Riemannian Logarithm\n",
        "* We implement the function Manifolds.log_lbfgs, structured after Manifolds.log\n",
        "* A warmup run:"
      ],
      "metadata": {
        "id": "r4mXp97XJISu"
      }
    },
    {
      "cell_type": "code",
      "source": [
        "function randpoint(M)\n",
        "    return project(M, randn(representation_size(M)))\n",
        "end\n",
        "\n",
        "function randvec(M, p)\n",
        "    # generate unit vector\n",
        "    X = project(M, p, randn(representation_size(M)))\n",
        "    X ./= sqrt(inner(M, p, X, X))\n",
        "    return X\n",
        "end\n",
        "\n",
        "# do a warm up run\n",
        "n = 5\n",
        "k = 3\n",
        "α = .2\n",
        "\n",
        "M = MetricManifold(Stiefel(n, k), StiefelSubmersionMetric(α))\n",
        "p = randpoint(M)\n",
        "X = randvec(M, p)\n",
        "\n",
        "q = exp(M, p, X)\n",
        "\n",
        "XA = Manifolds.log(M, p, q)\n",
        "XB = Manifolds.log_lbfgs(M, p, q, tolerance=1e-10)\n",
        "display(linf(XA - XB))"
      ],
      "metadata": {
        "colab": {
          "base_uri": "https://localhost:8080/",
          "height": 35
        },
        "id": "QMTpmP6sFNty",
        "outputId": "8f05be24-d3f8-43e4-9760-9c92967d8376"
      },
      "execution_count": 11,
      "outputs": [
        {
          "output_type": "display_data",
          "data": {
            "text/plain": [
              "2.0138888473519856e-9"
            ]
          },
          "metadata": {}
        }
      ]
    },
    {
      "cell_type": "markdown",
      "source": [
        "Now compare and benchmark for a bigger example. Generated distance is $0.5\\pi$\n"
      ],
      "metadata": {
        "id": "__Qo9WWsJrAt"
      }
    },
    {
      "cell_type": "code",
      "source": [
        " n = 1000\n",
        " k = 200\n",
        "\n",
        " # We test for all α >-1.\n",
        " α = 3*rand() - .9\n",
        " \n",
        " M = MetricManifold(Stiefel(n, k), StiefelSubmersionMetric(α))\n",
        " p = randpoint(M)\n",
        " X = randvec(M, p)\n",
        "\n",
        " # example with distance 0.5pi\n",
        " ft = .5\n",
        " q = exp(M, p, ft*pi*X)\n",
        "\n",
        " XOld = Manifolds.log(M, p, q)\n",
        " XF = Manifolds.log_lbfgs(M, p, q, tolerance=1e-10, max_itr=1000, pretol=1e-3)\n",
        " display(linf(XOld - XF))\n",
        " display(linf(XOld - ft*pi*X))\n",
        " display(linf(XF - ft*pi*X))"
      ],
      "metadata": {
        "colab": {
          "base_uri": "https://localhost:8080/",
          "height": 72
        },
        "id": "rLMwKEC7FRkw",
        "outputId": "5ddd8b6e-e432-434c-8338-0d3dbe7fd0c2"
      },
      "execution_count": 12,
      "outputs": [
        {
          "output_type": "display_data",
          "data": {
            "text/plain": [
              "8.274858229184723e-12"
            ]
          },
          "metadata": {}
        },
        {
          "output_type": "display_data",
          "data": {
            "text/plain": [
              "9.03289682635533e-12"
            ]
          },
          "metadata": {}
        },
        {
          "output_type": "display_data",
          "data": {
            "text/plain": [
              "7.580385971706072e-13"
            ]
          },
          "metadata": {}
        }
      ]
    },
    {
      "cell_type": "code",
      "source": [
        " display(@benchmark Manifolds.log(M, p, q))\n",
        " display(@benchmark Manifolds.log_lbfgs(M, p, q, tolerance=1e-10, max_itr=1000, pretol=1e-3))"
      ],
      "metadata": {
        "colab": {
          "base_uri": "https://localhost:8080/",
          "height": 382
        },
        "id": "v6Nr5JHeKkhm",
        "outputId": "34b374c0-9747-436c-c15d-ee2b17144dc4"
      },
      "execution_count": 13,
      "outputs": [
        {
          "output_type": "display_data",
          "data": {
            "text/plain": [
              "BenchmarkTools.Trial: 5 samples with 1 evaluation.\n",
              " Range \u001b[90m(\u001b[39m\u001b[36m\u001b[1mmin\u001b[22m\u001b[39m … \u001b[35mmax\u001b[39m\u001b[90m):  \u001b[39m\u001b[36m\u001b[1m1.089 s\u001b[22m\u001b[39m … \u001b[35m  1.211 s\u001b[39m  \u001b[90m┊\u001b[39m GC \u001b[90m(\u001b[39mmin … max\u001b[90m): \u001b[39m6.01% … 8.87%\n",
              " Time  \u001b[90m(\u001b[39m\u001b[34m\u001b[1mmedian\u001b[22m\u001b[39m\u001b[90m):     \u001b[39m\u001b[34m\u001b[1m1.105 s              \u001b[22m\u001b[39m\u001b[90m┊\u001b[39m GC \u001b[90m(\u001b[39mmedian\u001b[90m):    \u001b[39m6.99%\n",
              " Time  \u001b[90m(\u001b[39m\u001b[32m\u001b[1mmean\u001b[22m\u001b[39m ± \u001b[32mσ\u001b[39m\u001b[90m):   \u001b[39m\u001b[32m\u001b[1m1.125 s\u001b[22m\u001b[39m ± \u001b[32m48.856 ms\u001b[39m  \u001b[90m┊\u001b[39m GC \u001b[90m(\u001b[39mmean ± σ\u001b[90m):  \u001b[39m7.20% ± 1.04%\n",
              "\n",
              "  \u001b[39m█\u001b[39m \u001b[39m \u001b[39m \u001b[39m \u001b[39m█\u001b[34m \u001b[39m\u001b[39m█\u001b[39m \u001b[39m \u001b[39m \u001b[39m \u001b[39m \u001b[39m \u001b[39m█\u001b[39m \u001b[39m \u001b[32m \u001b[39m\u001b[39m \u001b[39m \u001b[39m \u001b[39m \u001b[39m \u001b[39m \u001b[39m \u001b[39m \u001b[39m \u001b[39m \u001b[39m \u001b[39m \u001b[39m \u001b[39m \u001b[39m \u001b[39m \u001b[39m \u001b[39m \u001b[39m \u001b[39m \u001b[39m \u001b[39m \u001b[39m \u001b[39m \u001b[39m \u001b[39m \u001b[39m \u001b[39m \u001b[39m \u001b[39m \u001b[39m \u001b[39m \u001b[39m \u001b[39m \u001b[39m \u001b[39m \u001b[39m \u001b[39m \u001b[39m█\u001b[39m \u001b[39m \n",
              "  \u001b[39m█\u001b[39m▁\u001b[39m▁\u001b[39m▁\u001b[39m▁\u001b[39m█\u001b[34m▁\u001b[39m\u001b[39m█\u001b[39m▁\u001b[39m▁\u001b[39m▁\u001b[39m▁\u001b[39m▁\u001b[39m▁\u001b[39m█\u001b[39m▁\u001b[39m▁\u001b[32m▁\u001b[39m\u001b[39m▁\u001b[39m▁\u001b[39m▁\u001b[39m▁\u001b[39m▁\u001b[39m▁\u001b[39m▁\u001b[39m▁\u001b[39m▁\u001b[39m▁\u001b[39m▁\u001b[39m▁\u001b[39m▁\u001b[39m▁\u001b[39m▁\u001b[39m▁\u001b[39m▁\u001b[39m▁\u001b[39m▁\u001b[39m▁\u001b[39m▁\u001b[39m▁\u001b[39m▁\u001b[39m▁\u001b[39m▁\u001b[39m▁\u001b[39m▁\u001b[39m▁\u001b[39m▁\u001b[39m▁\u001b[39m▁\u001b[39m▁\u001b[39m▁\u001b[39m▁\u001b[39m▁\u001b[39m▁\u001b[39m▁\u001b[39m▁\u001b[39m█\u001b[39m \u001b[39m▁\n",
              "  1.09 s\u001b[90m         Histogram: frequency by time\u001b[39m        1.21 s \u001b[0m\u001b[1m<\u001b[22m\n",
              "\n",
              " Memory estimate\u001b[90m: \u001b[39m\u001b[33m725.86 MiB\u001b[39m, allocs estimate\u001b[90m: \u001b[39m\u001b[33m3482\u001b[39m."
            ]
          },
          "metadata": {}
        },
        {
          "output_type": "display_data",
          "data": {
            "text/plain": [
              "BenchmarkTools.Trial: 6 samples with 1 evaluation.\n",
              " Range \u001b[90m(\u001b[39m\u001b[36m\u001b[1mmin\u001b[22m\u001b[39m … \u001b[35mmax\u001b[39m\u001b[90m):  \u001b[39m\u001b[36m\u001b[1m756.746 ms\u001b[22m\u001b[39m … \u001b[35m   1.184 s\u001b[39m  \u001b[90m┊\u001b[39m GC \u001b[90m(\u001b[39mmin … max\u001b[90m): \u001b[39m 8.28% … 37.72%\n",
              " Time  \u001b[90m(\u001b[39m\u001b[34m\u001b[1mmedian\u001b[22m\u001b[39m\u001b[90m):     \u001b[39m\u001b[34m\u001b[1m776.418 ms               \u001b[22m\u001b[39m\u001b[90m┊\u001b[39m GC \u001b[90m(\u001b[39mmedian\u001b[90m):    \u001b[39m 8.30%\n",
              " Time  \u001b[90m(\u001b[39m\u001b[32m\u001b[1mmean\u001b[22m\u001b[39m ± \u001b[32mσ\u001b[39m\u001b[90m):   \u001b[39m\u001b[32m\u001b[1m846.239 ms\u001b[22m\u001b[39m ± \u001b[32m167.449 ms\u001b[39m  \u001b[90m┊\u001b[39m GC \u001b[90m(\u001b[39mmean ± σ\u001b[90m):  \u001b[39m15.35% ± 12.26%\n",
              "\n",
              "  \u001b[39m█\u001b[39m▁\u001b[34m \u001b[39m\u001b[39m \u001b[39m▁\u001b[39m \u001b[39m \u001b[39m \u001b[39m \u001b[39m▁\u001b[39m \u001b[39m \u001b[39m \u001b[32m \u001b[39m\u001b[39m \u001b[39m \u001b[39m \u001b[39m \u001b[39m \u001b[39m \u001b[39m \u001b[39m \u001b[39m \u001b[39m \u001b[39m \u001b[39m \u001b[39m \u001b[39m \u001b[39m \u001b[39m \u001b[39m \u001b[39m \u001b[39m \u001b[39m \u001b[39m \u001b[39m \u001b[39m \u001b[39m \u001b[39m \u001b[39m \u001b[39m \u001b[39m \u001b[39m \u001b[39m \u001b[39m \u001b[39m \u001b[39m \u001b[39m \u001b[39m \u001b[39m \u001b[39m \u001b[39m \u001b[39m \u001b[39m \u001b[39m \u001b[39m \u001b[39m \u001b[39m \u001b[39m \u001b[39m \u001b[39m▁\u001b[39m \u001b[39m \n",
              "  \u001b[39m█\u001b[39m█\u001b[34m▁\u001b[39m\u001b[39m▁\u001b[39m█\u001b[39m▁\u001b[39m▁\u001b[39m▁\u001b[39m▁\u001b[39m█\u001b[39m▁\u001b[39m▁\u001b[39m▁\u001b[32m▁\u001b[39m\u001b[39m▁\u001b[39m▁\u001b[39m▁\u001b[39m▁\u001b[39m▁\u001b[39m▁\u001b[39m▁\u001b[39m▁\u001b[39m▁\u001b[39m▁\u001b[39m▁\u001b[39m▁\u001b[39m▁\u001b[39m▁\u001b[39m▁\u001b[39m▁\u001b[39m▁\u001b[39m▁\u001b[39m▁\u001b[39m▁\u001b[39m▁\u001b[39m▁\u001b[39m▁\u001b[39m▁\u001b[39m▁\u001b[39m▁\u001b[39m▁\u001b[39m▁\u001b[39m▁\u001b[39m▁\u001b[39m▁\u001b[39m▁\u001b[39m▁\u001b[39m▁\u001b[39m▁\u001b[39m▁\u001b[39m▁\u001b[39m▁\u001b[39m▁\u001b[39m▁\u001b[39m▁\u001b[39m▁\u001b[39m▁\u001b[39m▁\u001b[39m▁\u001b[39m▁\u001b[39m█\u001b[39m \u001b[39m▁\n",
              "  757 ms\u001b[90m           Histogram: frequency by time\u001b[39m          1.18 s \u001b[0m\u001b[1m<\u001b[22m\n",
              "\n",
              " Memory estimate\u001b[90m: \u001b[39m\u001b[33m419.68 MiB\u001b[39m, allocs estimate\u001b[90m: \u001b[39m\u001b[33m3076\u001b[39m."
            ]
          },
          "metadata": {}
        }
      ]
    },
    {
      "cell_type": "markdown",
      "source": [
        "* Another example. Generated distance is $2\\pi$"
      ],
      "metadata": {
        "id": "GtiDN0er1fSl"
      }
    },
    {
      "cell_type": "code",
      "source": [
        " Random.seed!(1)\n",
        " ft = 2.\n",
        " q = exp(M, p, ft*pi*X)\n",
        "\n",
        " XOld = Manifolds.log(M, p, q)\n",
        " XF = Manifolds.log_lbfgs(M, p, q, tolerance=1e-10, pretol=1e-5)\n",
        " display(linf(XOld - XF))\n",
        " display(linf(XOld - ft*pi*X))\n",
        " display(linf(XF - ft*pi*X))\n",
        " display(@benchmark Manifolds.log(M, p, q))\n",
        " display(@benchmark Manifolds.log_lbfgs(M, p, q, tolerance=1e-10, pretol=1e-5))"
      ],
      "metadata": {
        "colab": {
          "base_uri": "https://localhost:8080/",
          "height": 437
        },
        "id": "oa8EB9ceMINY",
        "outputId": "8c39223e-7e3b-4c65-c80e-9902a7973290"
      },
      "execution_count": 14,
      "outputs": [
        {
          "output_type": "display_data",
          "data": {
            "text/plain": [
              "2.1575043834820562e-11"
            ]
          },
          "metadata": {}
        },
        {
          "output_type": "display_data",
          "data": {
            "text/plain": [
              "2.4556787159291105e-11"
            ]
          },
          "metadata": {}
        },
        {
          "output_type": "display_data",
          "data": {
            "text/plain": [
              "1.3750237060072834e-11"
            ]
          },
          "metadata": {}
        },
        {
          "output_type": "display_data",
          "data": {
            "text/plain": [
              "BenchmarkTools.Trial: 2 samples with 1 evaluation.\n",
              " Range \u001b[90m(\u001b[39m\u001b[36m\u001b[1mmin\u001b[22m\u001b[39m … \u001b[35mmax\u001b[39m\u001b[90m):  \u001b[39m\u001b[36m\u001b[1m2.928 s\u001b[22m\u001b[39m … \u001b[35m 2.932 s\u001b[39m  \u001b[90m┊\u001b[39m GC \u001b[90m(\u001b[39mmin … max\u001b[90m): \u001b[39m6.61% … 7.89%\n",
              " Time  \u001b[90m(\u001b[39m\u001b[34m\u001b[1mmedian\u001b[22m\u001b[39m\u001b[90m):     \u001b[39m\u001b[34m\u001b[1m2.930 s             \u001b[22m\u001b[39m\u001b[90m┊\u001b[39m GC \u001b[90m(\u001b[39mmedian\u001b[90m):    \u001b[39m7.25%\n",
              " Time  \u001b[90m(\u001b[39m\u001b[32m\u001b[1mmean\u001b[22m\u001b[39m ± \u001b[32mσ\u001b[39m\u001b[90m):   \u001b[39m\u001b[32m\u001b[1m2.930 s\u001b[22m\u001b[39m ± \u001b[32m2.580 ms\u001b[39m  \u001b[90m┊\u001b[39m GC \u001b[90m(\u001b[39mmean ± σ\u001b[90m):  \u001b[39m7.25% ± 0.91%\n",
              "\n",
              "  \u001b[34m█\u001b[39m\u001b[39m \u001b[39m \u001b[39m \u001b[39m \u001b[39m \u001b[39m \u001b[39m \u001b[39m \u001b[39m \u001b[39m \u001b[39m \u001b[39m \u001b[39m \u001b[39m \u001b[39m \u001b[39m \u001b[39m \u001b[39m \u001b[39m \u001b[39m \u001b[39m \u001b[39m \u001b[39m \u001b[39m \u001b[39m \u001b[39m \u001b[39m \u001b[32m \u001b[39m\u001b[39m \u001b[39m \u001b[39m \u001b[39m \u001b[39m \u001b[39m \u001b[39m \u001b[39m \u001b[39m \u001b[39m \u001b[39m \u001b[39m \u001b[39m \u001b[39m \u001b[39m \u001b[39m \u001b[39m \u001b[39m \u001b[39m \u001b[39m \u001b[39m \u001b[39m \u001b[39m \u001b[39m \u001b[39m \u001b[39m \u001b[39m█\u001b[39m \u001b[39m \n",
              "  \u001b[34m█\u001b[39m\u001b[39m▁\u001b[39m▁\u001b[39m▁\u001b[39m▁\u001b[39m▁\u001b[39m▁\u001b[39m▁\u001b[39m▁\u001b[39m▁\u001b[39m▁\u001b[39m▁\u001b[39m▁\u001b[39m▁\u001b[39m▁\u001b[39m▁\u001b[39m▁\u001b[39m▁\u001b[39m▁\u001b[39m▁\u001b[39m▁\u001b[39m▁\u001b[39m▁\u001b[39m▁\u001b[39m▁\u001b[39m▁\u001b[39m▁\u001b[39m▁\u001b[32m▁\u001b[39m\u001b[39m▁\u001b[39m▁\u001b[39m▁\u001b[39m▁\u001b[39m▁\u001b[39m▁\u001b[39m▁\u001b[39m▁\u001b[39m▁\u001b[39m▁\u001b[39m▁\u001b[39m▁\u001b[39m▁\u001b[39m▁\u001b[39m▁\u001b[39m▁\u001b[39m▁\u001b[39m▁\u001b[39m▁\u001b[39m▁\u001b[39m▁\u001b[39m▁\u001b[39m▁\u001b[39m▁\u001b[39m▁\u001b[39m▁\u001b[39m█\u001b[39m \u001b[39m▁\n",
              "  2.93 s\u001b[90m        Histogram: frequency by time\u001b[39m        2.93 s \u001b[0m\u001b[1m<\u001b[22m\n",
              "\n",
              " Memory estimate\u001b[90m: \u001b[39m\u001b[33m1.34 GiB\u001b[39m, allocs estimate\u001b[90m: \u001b[39m\u001b[33m7304\u001b[39m."
            ]
          },
          "metadata": {}
        },
        {
          "output_type": "display_data",
          "data": {
            "text/plain": [
              "BenchmarkTools.Trial: 3 samples with 1 evaluation.\n",
              " Range \u001b[90m(\u001b[39m\u001b[36m\u001b[1mmin\u001b[22m\u001b[39m … \u001b[35mmax\u001b[39m\u001b[90m):  \u001b[39m\u001b[36m\u001b[1m1.930 s\u001b[22m\u001b[39m … \u001b[35m   2.462 s\u001b[39m  \u001b[90m┊\u001b[39m GC \u001b[90m(\u001b[39mmin … max\u001b[90m): \u001b[39m 5.02% … 19.15%\n",
              " Time  \u001b[90m(\u001b[39m\u001b[34m\u001b[1mmedian\u001b[22m\u001b[39m\u001b[90m):     \u001b[39m\u001b[34m\u001b[1m1.990 s               \u001b[22m\u001b[39m\u001b[90m┊\u001b[39m GC \u001b[90m(\u001b[39mmedian\u001b[90m):    \u001b[39m 5.91%\n",
              " Time  \u001b[90m(\u001b[39m\u001b[32m\u001b[1mmean\u001b[22m\u001b[39m ± \u001b[32mσ\u001b[39m\u001b[90m):   \u001b[39m\u001b[32m\u001b[1m2.127 s\u001b[22m\u001b[39m ± \u001b[32m291.320 ms\u001b[39m  \u001b[90m┊\u001b[39m GC \u001b[90m(\u001b[39mmean ± σ\u001b[90m):  \u001b[39m10.75% ±  7.91%\n",
              "\n",
              "  \u001b[34m█\u001b[39m\u001b[39m \u001b[39m \u001b[39m \u001b[39m \u001b[39m \u001b[39m█\u001b[39m \u001b[39m \u001b[39m \u001b[39m \u001b[39m \u001b[39m \u001b[39m \u001b[39m \u001b[39m \u001b[39m \u001b[39m \u001b[39m \u001b[39m \u001b[39m \u001b[39m \u001b[32m \u001b[39m\u001b[39m \u001b[39m \u001b[39m \u001b[39m \u001b[39m \u001b[39m \u001b[39m \u001b[39m \u001b[39m \u001b[39m \u001b[39m \u001b[39m \u001b[39m \u001b[39m \u001b[39m \u001b[39m \u001b[39m \u001b[39m \u001b[39m \u001b[39m \u001b[39m \u001b[39m \u001b[39m \u001b[39m \u001b[39m \u001b[39m \u001b[39m \u001b[39m \u001b[39m \u001b[39m \u001b[39m \u001b[39m \u001b[39m \u001b[39m \u001b[39m█\u001b[39m \u001b[39m \n",
              "  \u001b[34m█\u001b[39m\u001b[39m▁\u001b[39m▁\u001b[39m▁\u001b[39m▁\u001b[39m▁\u001b[39m█\u001b[39m▁\u001b[39m▁\u001b[39m▁\u001b[39m▁\u001b[39m▁\u001b[39m▁\u001b[39m▁\u001b[39m▁\u001b[39m▁\u001b[39m▁\u001b[39m▁\u001b[39m▁\u001b[39m▁\u001b[39m▁\u001b[39m▁\u001b[32m▁\u001b[39m\u001b[39m▁\u001b[39m▁\u001b[39m▁\u001b[39m▁\u001b[39m▁\u001b[39m▁\u001b[39m▁\u001b[39m▁\u001b[39m▁\u001b[39m▁\u001b[39m▁\u001b[39m▁\u001b[39m▁\u001b[39m▁\u001b[39m▁\u001b[39m▁\u001b[39m▁\u001b[39m▁\u001b[39m▁\u001b[39m▁\u001b[39m▁\u001b[39m▁\u001b[39m▁\u001b[39m▁\u001b[39m▁\u001b[39m▁\u001b[39m▁\u001b[39m▁\u001b[39m▁\u001b[39m▁\u001b[39m▁\u001b[39m▁\u001b[39m▁\u001b[39m▁\u001b[39m█\u001b[39m \u001b[39m▁\n",
              "  1.93 s\u001b[90m         Histogram: frequency by time\u001b[39m         2.46 s \u001b[0m\u001b[1m<\u001b[22m\n",
              "\n",
              " Memory estimate\u001b[90m: \u001b[39m\u001b[33m862.55 MiB\u001b[39m, allocs estimate\u001b[90m: \u001b[39m\u001b[33m9918\u001b[39m."
            ]
          },
          "metadata": {}
        }
      ]
    },
    {
      "cell_type": "markdown",
      "source": [
        "*  We test extensively using the script [test_log_frechet.jl](https://raw.githubusercontent.com/dnguyend/Manifolds.jl/master/misc_stiefel_frechet/test_log_frechet.jl) to generate manifolds of different size, alpha and distance. We save the result in csv files, max_05 and max_05_pretol5 corresponding to distance at most $0.5\\pi$, max_20 corresponds to distance at most $2\\pi$ and max_40 corresponds to distance at most $4\\pi$\n",
        "We put data in data frames and summarize the results:"
      ],
      "metadata": {
        "id": "yP-EZXgYLBpB"
      }
    },
    {
      "cell_type": "code",
      "source": [
        "download(\"https://raw.githubusercontent.com/dnguyend/Manifolds.jl/master/misc_stiefel_frechet/max_05.csv\", \"max_05.csv\")\n",
        "download(\"https://raw.githubusercontent.com/dnguyend/Manifolds.jl/master/misc_stiefel_frechet/max_05_pretol5.csv\", \"max_05_pretol5.csv\")\n",
        "download(\"https://raw.githubusercontent.com/dnguyend/Manifolds.jl/master/misc_stiefel_frechet/max_20.csv\", \"max_20.csv\")\n",
        "download(\"raw.githubusercontent.com/dnguyend/Manifolds.jl/master/misc_stiefel_frechet/max_40.csv\", \"max_40.csv\")"
      ],
      "metadata": {
        "colab": {
          "base_uri": "https://localhost:8080/"
        },
        "id": "B8D8FwAK5sFZ",
        "outputId": "319cdbb5-25ec-40fa-8ce3-e46c5b092e09"
      },
      "execution_count": 15,
      "outputs": [
        {
          "output_type": "execute_result",
          "data": {
            "text/plain": [
              "\"max_40.csv\""
            ]
          },
          "metadata": {},
          "execution_count": 15
        }
      ]
    },
    {
      "cell_type": "code",
      "metadata": {
        "id": "MrMBYPD5_XnP",
        "colab": {
          "base_uri": "https://localhost:8080/"
        },
        "outputId": "eb8bc3f3-1b66-42ea-c35f-2ceac620c4a3"
      },
      "source": [
        "Pkg.add(\"DataFrames\")\n",
        "Pkg.add(\"CSV\")\n",
        "using DataFrames, CSV"
      ],
      "execution_count": 16,
      "outputs": [
        {
          "output_type": "stream",
          "name": "stderr",
          "text": [
            "\u001b[32m\u001b[1m   Resolving\u001b[22m\u001b[39m package versions...\n",
            "\u001b[32m\u001b[1m   Installed\u001b[22m\u001b[39m Crayons ──────────── v4.1.1\n",
            "\u001b[32m\u001b[1m   Installed\u001b[22m\u001b[39m PooledArrays ─────── v1.4.2\n",
            "\u001b[32m\u001b[1m   Installed\u001b[22m\u001b[39m InvertedIndices ──── v1.1.0\n",
            "\u001b[32m\u001b[1m   Installed\u001b[22m\u001b[39m StringManipulation ─ v0.3.0\n",
            "\u001b[32m\u001b[1m   Installed\u001b[22m\u001b[39m DataFrames ───────── v1.4.1\n",
            "\u001b[32m\u001b[1m   Installed\u001b[22m\u001b[39m PrettyTables ─────── v2.1.2\n",
            "\u001b[32m\u001b[1m    Updating\u001b[22m\u001b[39m `~/.julia/environments/v1.6/Project.toml`\n",
            " \u001b[90m [a93c6f00] \u001b[39m\u001b[92m+ DataFrames v1.4.1\u001b[39m\n",
            "\u001b[32m\u001b[1m    Updating\u001b[22m\u001b[39m `~/.julia/environments/v1.6/Manifest.toml`\n",
            " \u001b[90m [a8cc5b0e] \u001b[39m\u001b[92m+ Crayons v4.1.1\u001b[39m\n",
            " \u001b[90m [a93c6f00] \u001b[39m\u001b[92m+ DataFrames v1.4.1\u001b[39m\n",
            " \u001b[90m [41ab1584] \u001b[39m\u001b[92m+ InvertedIndices v1.1.0\u001b[39m\n",
            " \u001b[90m [2dfb63ee] \u001b[39m\u001b[92m+ PooledArrays v1.4.2\u001b[39m\n",
            " \u001b[90m [08abe8d2] \u001b[39m\u001b[92m+ PrettyTables v2.1.2\u001b[39m\n",
            " \u001b[90m [892a3eda] \u001b[39m\u001b[92m+ StringManipulation v0.3.0\u001b[39m\n",
            "\u001b[32m\u001b[1mPrecompiling\u001b[22m\u001b[39m project...\n",
            "\u001b[32m  ✓ \u001b[39m\u001b[90mInvertedIndices\u001b[39m\n",
            "\u001b[32m  ✓ \u001b[39m\u001b[90mPooledArrays\u001b[39m\n",
            "\u001b[32m  ✓ \u001b[39m\u001b[90mCrayons\u001b[39m\n",
            "\u001b[32m  ✓ \u001b[39m\u001b[90mStringManipulation\u001b[39m\n",
            "\u001b[32m  ✓ \u001b[39m\u001b[90mPrettyTables\u001b[39m\n",
            "\u001b[32m  ✓ \u001b[39mDataFrames\n",
            "6 dependencies successfully precompiled in 44 seconds (192 already precompiled)\n",
            "\u001b[32m\u001b[1m   Resolving\u001b[22m\u001b[39m package versions...\n",
            "\u001b[32m\u001b[1m   Installed\u001b[22m\u001b[39m SentinelArrays ─ v1.3.16\n",
            "\u001b[32m\u001b[1m   Installed\u001b[22m\u001b[39m InlineStrings ── v1.2.2\n",
            "\u001b[32m\u001b[1m   Installed\u001b[22m\u001b[39m FilePathsBase ── v0.9.20\n",
            "\u001b[32m\u001b[1m   Installed\u001b[22m\u001b[39m WeakRefStrings ─ v1.4.2\n",
            "\u001b[32m\u001b[1m   Installed\u001b[22m\u001b[39m CSV ──────────── v0.10.6\n",
            "\u001b[32m\u001b[1m    Updating\u001b[22m\u001b[39m `~/.julia/environments/v1.6/Project.toml`\n",
            " \u001b[90m [336ed68f] \u001b[39m\u001b[92m+ CSV v0.10.6\u001b[39m\n",
            "\u001b[32m\u001b[1m    Updating\u001b[22m\u001b[39m `~/.julia/environments/v1.6/Manifest.toml`\n",
            " \u001b[90m [336ed68f] \u001b[39m\u001b[92m+ CSV v0.10.6\u001b[39m\n",
            " \u001b[90m [48062228] \u001b[39m\u001b[92m+ FilePathsBase v0.9.20\u001b[39m\n",
            " \u001b[90m [842dd82b] \u001b[39m\u001b[92m+ InlineStrings v1.2.2\u001b[39m\n",
            " \u001b[90m [91c51154] \u001b[39m\u001b[92m+ SentinelArrays v1.3.16\u001b[39m\n",
            " \u001b[90m [ea10d353] \u001b[39m\u001b[92m+ WeakRefStrings v1.4.2\u001b[39m\n",
            "\u001b[32m\u001b[1mPrecompiling\u001b[22m\u001b[39m project...\n",
            "\u001b[32m  ✓ \u001b[39m\u001b[90mSentinelArrays\u001b[39m\n",
            "\u001b[32m  ✓ \u001b[39m\u001b[90mFilePathsBase\u001b[39m\n",
            "\u001b[32m  ✓ \u001b[39m\u001b[90mInlineStrings\u001b[39m\n",
            "\u001b[32m  ✓ \u001b[39m\u001b[90mWeakRefStrings\u001b[39m\n",
            "\u001b[32m  ✓ \u001b[39mCSV\n",
            "5 dependencies successfully precompiled in 30 seconds (198 already precompiled)\n"
          ]
        }
      ]
    },
    {
      "cell_type": "markdown",
      "source": [
        "* Comparing data, errOld is error using the old log, errNew is using the new log, timeOld is time using the old log, time new using new log. We also compare the norm. We will see sometime the log is better than the data generating norm (colum normGEN, ie if we generate point q using vector  $f\\pi X$, old norm is $fp\\pi |X|_{Riemann}$."
      ],
      "metadata": {
        "id": "v2zdFsPHScLA"
      }
    },
    {
      "cell_type": "code",
      "source": [
        "# at distance at most 0.5pi\n",
        " header = vec([\"n\", \"k\",\t\"alpha\",\t\"errOld\",\t\"errNew\",\t\"timeOld\",\t\"timeNew\",\t\"normOld\",\t\"normNew\",\t\"normGen\"])\n",
        "m05 = DataFrame(CSV.File(\"max_05.csv\", header=false))\n",
        "rename!(m05, header)\n",
        "show(m05, allrows=true, allcols=true)"
      ],
      "metadata": {
        "colab": {
          "base_uri": "https://localhost:8080/"
        },
        "id": "jzK0XFMOcA_H",
        "outputId": "a6d80553-384b-4fcd-f750-6596f23517cc"
      },
      "execution_count": 17,
      "outputs": [
        {
          "output_type": "stream",
          "name": "stdout",
          "text": [
            "\u001b[1m50×10 DataFrame\u001b[0m\n",
            "\u001b[1m Row \u001b[0m│\u001b[1m n       \u001b[0m\u001b[1m k       \u001b[0m\u001b[1m alpha      \u001b[0m\u001b[1m errOld      \u001b[0m\u001b[1m errNew      \u001b[0m\u001b[1m timeOld     \u001b[0m\u001b[1m timeNew     \u001b[0m\u001b[1m normOld  \u001b[0m\u001b[1m normNew  \u001b[0m\u001b[1m normGen  \u001b[0m\n",
            "     │\u001b[90m Float64 \u001b[0m\u001b[90m Float64 \u001b[0m\u001b[90m Float64    \u001b[0m\u001b[90m Float64     \u001b[0m\u001b[90m Float64     \u001b[0m\u001b[90m Float64     \u001b[0m\u001b[90m Float64     \u001b[0m\u001b[90m Float64  \u001b[0m\u001b[90m Float64  \u001b[0m\u001b[90m Float64  \u001b[0m\n",
            "─────┼────────────────────────────────────────────────────────────────────────────────────────────────────────────────\n",
            "   1 │    20.0      3.0   1.68642    2.21184e-10  5.18863e-13  0.00179469   0.000777386  0.574269  0.574269  0.574269\n",
            "   2 │    95.0      9.0   0.0392704  9.16708e-12  9.3643e-14   0.00134563   0.000810651  0.435339  0.435339  0.435339\n",
            "   3 │   818.0    631.0   0.213541   1.77093e-12  3.86826e-14  2.65707      1.69776      0.439288  0.439288  0.439288\n",
            "   4 │   110.0     76.0   1.957      1.42964e-10  3.68103e-12  0.0445438    0.0275846    1.09439   1.09439   1.09439\n",
            "   5 │    56.0     25.0  -0.826732   1.66782e-10  2.59465e-12  0.00598442   0.00443006   0.390783  0.390783  0.390783\n",
            "   6 │   185.0     42.0  -0.0805532  1.12204e-11  4.71137e-13  0.0143268    0.0113955    1.45185   1.45185   1.45185\n",
            "   7 │   477.0    332.0  -0.764934   9.7686e-13   9.7623e-13   0.997874     0.496972     1.03439   1.03439   1.03439\n",
            "   8 │    44.0     15.0   0.558682   1.12116e-10  2.21515e-12  0.00440411   0.00249445   1.15487   1.15487   1.15487\n",
            "   9 │     4.0      3.0   0.971937   2.28766e-9   3.42991e-11  0.00154682   0.000468075  0.804717  0.804717  0.804717\n",
            "  10 │    83.0     51.0  -0.730182   6.73023e-11  5.31539e-12  0.0219523    0.0128057    0.958002  0.958002  0.958002\n",
            "  11 │     6.0      2.0   1.61998    2.7192e-9    9.8305e-11   0.00368645   0.000949995  1.33941   1.33941   1.33941\n",
            "  12 │    99.0     42.0  -0.443852   5.51822e-13  1.5349e-13   0.0105696    0.00850992   1.02063   1.02063   1.02063\n",
            "  13 │    31.0     11.0   0.922384   2.79011e-11  1.46039e-12  0.00140181   0.000818904  0.200134  0.200134  0.200134\n",
            "  14 │   473.0    109.0   0.682749   1.99499e-12  3.75441e-13  0.0960944    0.0778771    1.30972   1.30972   1.30972\n",
            "  15 │   934.0    542.0   1.36606    3.64509e-12  1.67913e-13  3.49317      2.05956      0.7566    0.7566    0.7566\n",
            "  16 │   939.0      6.0   0.209802   3.37129e-12  4.97442e-13  0.00125313   0.000942803  0.788184  0.788184  0.788184\n",
            "  17 │   263.0     43.0   0.404611   1.10399e-12  1.93848e-13  0.0129378    0.0108552    0.707402  0.707402  0.707402\n",
            "  18 │    48.0     45.0   0.510312   2.10378e-10  1.17828e-12  0.0103929    0.00546921   0.520282  0.520282  0.520282\n",
            "  19 │    26.0      3.0   0.418006   1.27312e-9   3.40237e-11  0.00177869   0.000664209  1.55651   1.55651   1.55651\n",
            "  20 │    23.0     12.0   1.41382    4.76137e-11  5.50937e-12  0.00235324   0.00121976   0.350305  0.350305  0.350305\n",
            "  21 │    48.0     32.0  -0.586777   3.17851e-12  1.16768e-13  0.00474049   0.00316244   0.556201  0.556201  0.556201\n",
            "  22 │    11.0      4.0   1.67119    2.20115e-10  5.46846e-12  0.0012167    0.000447161  0.550683  0.550683  0.550683\n",
            "  23 │   175.0    127.0   1.8282     3.55445e-11  4.34477e-12  0.131758     0.0683332    1.42469   1.42469   1.42469\n",
            "  24 │   156.0     96.0   1.24567    1.23747e-11  3.26746e-13  0.0284041    0.0241648    0.187572  0.187572  0.187572\n",
            "  25 │   513.0    335.0   0.0804244  9.40118e-13  1.03836e-12  0.72796      0.408742     0.64242   0.64242   0.64242\n",
            "  26 │     4.0      3.0   1.97394    2.36098e-9   1.0619e-11   0.00143706   0.000439235  0.765261  0.765261  0.765261\n",
            "  27 │    25.0      5.0   2.06291    1.58057e-10  1.09276e-11  0.00161452   0.000737118  1.04262   1.04262   1.04262\n",
            "  28 │   551.0    493.0   1.09814    5.10762e-13  5.1055e-13   1.25831      0.643919     0.326694  0.326694  0.326694\n",
            "  29 │    12.0      2.0   1.99666    1.47352e-11  5.98744e-14  0.000649064  0.000207682  0.241237  0.241237  0.241237\n",
            "  30 │    39.0     16.0   1.48803    4.37809e-10  8.91642e-12  0.00459983   0.00273783   1.09325   1.09325   1.09325\n",
            "  31 │    39.0     13.0   0.540123   5.92171e-11  2.9248e-12   0.00256574   0.00155686   0.736265  0.736265  0.736265\n",
            "  32 │   494.0    393.0   1.46246    1.63941e-11  1.63252e-12  1.15581      0.599169     1.06827   1.06827   1.06827\n",
            "  33 │    96.0     34.0   0.730281   1.60174e-11  2.80252e-12  0.00879862   0.00659381   0.713867  0.713867  0.713867\n",
            "  34 │    12.0     10.0   1.99384    3.00824e-9   4.16375e-11  0.00940578   0.00314377   1.35026   1.35026   1.35026\n",
            "  35 │     4.0      2.0   0.322768   1.88889e-9   4.56195e-10  0.00123395   0.00102236   1.41093   1.41093   1.41093\n",
            "  36 │     4.0      3.0   0.76881    4.27791e-10  5.55722e-12  0.00142274   0.000319874  0.370204  0.370204  0.370204\n",
            "  37 │   411.0    150.0   0.273437   1.08961e-13  1.80897e-13  0.102451     0.0946329    0.213977  0.213977  0.213977\n",
            "  38 │    26.0     13.0  -0.118139   1.80994e-12  5.93969e-14  0.00150494   0.000946064  0.188751  0.188751  0.188751\n",
            "  39 │   449.0    150.0   1.62944    2.25847e-12  4.15562e-12  0.234386     0.155279     1.47586   1.47586   1.47586\n",
            "  40 │    37.0     21.0  -0.0807755  2.09262e-10  3.99104e-12  0.00460664   0.00272177   0.912828  0.912828  0.912828\n",
            "  41 │     6.0      2.0  -0.126533   9.07236e-10  3.59057e-10  0.0015603    0.00106185   1.55481   1.55481   1.55481\n",
            "  42 │     4.0      2.0   0.990365   2.54006e-11  4.93466e-13  0.00077135   0.000234153  0.297034  0.297034  0.297034\n",
            "  43 │     7.0      5.0   1.44484    6.18703e-10  1.95095e-11  0.00145788   0.000500028  0.497643  0.497643  0.497643\n",
            "  44 │   675.0    242.0   1.53307    4.93926e-12  1.93345e-13  0.436435     0.352665     0.723576  0.723576  0.723576\n",
            "  45 │   991.0    237.0   1.28012    1.67117e-12  6.32341e-14  0.425613     0.365481     0.808199  0.808199  0.808199\n",
            "  46 │     5.0      4.0  -0.732306   9.06433e-10  8.89133e-12  0.00127542   0.000372747  0.526614  0.526614  0.526614\n",
            "  47 │    72.0      2.0   0.974966   2.53156e-10  1.94746e-11  0.00167059   0.000521209  1.19895   1.19895   1.19895\n",
            "  48 │     4.0      3.0   1.65957    2.46961e-9   4.55568e-11  0.00232439   0.000405487  0.458694  0.458694  0.458694\n",
            "  49 │    19.0      4.0   0.264634   1.32708e-11  3.27537e-14  0.000586685  0.000242467  0.196148  0.196148  0.196148\n",
            "  50 │   143.0    119.0  -0.11974    1.11315e-11  6.12289e-12  0.0717205    0.0381941    1.36585   1.36585   1.36585"
          ]
        }
      ]
    },
    {
      "cell_type": "code",
      "source": [
        "describe(m05)"
      ],
      "metadata": {
        "colab": {
          "base_uri": "https://localhost:8080/",
          "height": 312
        },
        "id": "RVeu1tOJTX4m",
        "outputId": "eb839432-3675-4abc-ac23-107829ef9805"
      },
      "execution_count": 18,
      "outputs": [
        {
          "output_type": "execute_result",
          "data": {
            "text/plain": [
              "\u001b[1m10×7 DataFrame\u001b[0m\n",
              "\u001b[1m Row \u001b[0m│\u001b[1m variable \u001b[0m\u001b[1m mean          \u001b[0m\u001b[1m min          \u001b[0m\u001b[1m median       \u001b[0m\u001b[1m max           \u001b[0m\u001b[1m nmi\u001b[0m ⋯\n",
              "     │\u001b[90m Symbol   \u001b[0m\u001b[90m Float64       \u001b[0m\u001b[90m Float64      \u001b[0m\u001b[90m Float64      \u001b[0m\u001b[90m Float64       \u001b[0m\u001b[90m Int\u001b[0m ⋯\n",
              "─────┼──────────────────────────────────────────────────────────────────────────\n",
              "   1 │ n         195.32          4.0          48.0          991.0              ⋯\n",
              "   2 │ k          90.48          2.0          15.5          631.0\n",
              "   3 │ alpha       0.753559     -0.826732      0.749545       2.06291\n",
              "   4 │ errOld      4.27916e-10   1.08961e-13   3.17228e-11    3.00824e-9\n",
              "   5 │ errNew      2.42586e-11   3.27537e-14   2.4049e-12     4.56195e-10      ⋯\n",
              "   6 │ timeOld     0.240216      0.000586685   0.00460323     3.49317\n",
              "   7 │ timeNew     0.144006      0.000207682   0.0027298      2.05956\n",
              "   8 │ normOld     0.795729      0.187572      0.746433       1.55651\n",
              "   9 │ normNew     0.795729      0.187572      0.746433       1.55651          ⋯\n",
              "  10 │ normGen     0.795729      0.187572      0.746433       1.55651\n",
              "\u001b[36m                                                               2 columns omitted\u001b[0m"
            ],
            "text/html": [
              "<div><div style = \"float: left;\"><span>10×7 DataFrame</span></div><div style = \"clear: both;\"></div></div><div class = \"data-frame\" style = \"overflow-x: scroll;\"><table class = \"data-frame\" style = \"margin-bottom: 6px;\"><thead><tr class = \"header\"><th class = \"rowNumber\" style = \"font-weight: bold; text-align: right;\">Row</th><th style = \"text-align: left;\">variable</th><th style = \"text-align: left;\">mean</th><th style = \"text-align: left;\">min</th><th style = \"text-align: left;\">median</th><th style = \"text-align: left;\">max</th><th style = \"text-align: left;\">nmissing</th><th style = \"text-align: left;\">eltype</th></tr><tr class = \"subheader headerLastRow\"><th class = \"rowNumber\" style = \"font-weight: bold; text-align: right;\"></th><th title = \"Symbol\" style = \"text-align: left;\">Symbol</th><th title = \"Float64\" style = \"text-align: left;\">Float64</th><th title = \"Float64\" style = \"text-align: left;\">Float64</th><th title = \"Float64\" style = \"text-align: left;\">Float64</th><th title = \"Float64\" style = \"text-align: left;\">Float64</th><th title = \"Int64\" style = \"text-align: left;\">Int64</th><th title = \"DataType\" style = \"text-align: left;\">DataType</th></tr></thead><tbody><tr><td class = \"rowNumber\" style = \"font-weight: bold; text-align: right;\">1</td><td style = \"text-align: left;\">n</td><td style = \"text-align: right;\">195.32</td><td style = \"text-align: right;\">4.0</td><td style = \"text-align: right;\">48.0</td><td style = \"text-align: right;\">991.0</td><td style = \"text-align: right;\">0</td><td style = \"text-align: left;\">Float64</td></tr><tr><td class = \"rowNumber\" style = \"font-weight: bold; text-align: right;\">2</td><td style = \"text-align: left;\">k</td><td style = \"text-align: right;\">90.48</td><td style = \"text-align: right;\">2.0</td><td style = \"text-align: right;\">15.5</td><td style = \"text-align: right;\">631.0</td><td style = \"text-align: right;\">0</td><td style = \"text-align: left;\">Float64</td></tr><tr><td class = \"rowNumber\" style = \"font-weight: bold; text-align: right;\">3</td><td style = \"text-align: left;\">alpha</td><td style = \"text-align: right;\">0.753559</td><td style = \"text-align: right;\">-0.826732</td><td style = \"text-align: right;\">0.749545</td><td style = \"text-align: right;\">2.06291</td><td style = \"text-align: right;\">0</td><td style = \"text-align: left;\">Float64</td></tr><tr><td class = \"rowNumber\" style = \"font-weight: bold; text-align: right;\">4</td><td style = \"text-align: left;\">errOld</td><td style = \"text-align: right;\">4.27916e-10</td><td style = \"text-align: right;\">1.08961e-13</td><td style = \"text-align: right;\">3.17228e-11</td><td style = \"text-align: right;\">3.00824e-9</td><td style = \"text-align: right;\">0</td><td style = \"text-align: left;\">Float64</td></tr><tr><td class = \"rowNumber\" style = \"font-weight: bold; text-align: right;\">5</td><td style = \"text-align: left;\">errNew</td><td style = \"text-align: right;\">2.42586e-11</td><td style = \"text-align: right;\">3.27537e-14</td><td style = \"text-align: right;\">2.4049e-12</td><td style = \"text-align: right;\">4.56195e-10</td><td style = \"text-align: right;\">0</td><td style = \"text-align: left;\">Float64</td></tr><tr><td class = \"rowNumber\" style = \"font-weight: bold; text-align: right;\">6</td><td style = \"text-align: left;\">timeOld</td><td style = \"text-align: right;\">0.240216</td><td style = \"text-align: right;\">0.000586685</td><td style = \"text-align: right;\">0.00460323</td><td style = \"text-align: right;\">3.49317</td><td style = \"text-align: right;\">0</td><td style = \"text-align: left;\">Float64</td></tr><tr><td class = \"rowNumber\" style = \"font-weight: bold; text-align: right;\">7</td><td style = \"text-align: left;\">timeNew</td><td style = \"text-align: right;\">0.144006</td><td style = \"text-align: right;\">0.000207682</td><td style = \"text-align: right;\">0.0027298</td><td style = \"text-align: right;\">2.05956</td><td style = \"text-align: right;\">0</td><td style = \"text-align: left;\">Float64</td></tr><tr><td class = \"rowNumber\" style = \"font-weight: bold; text-align: right;\">8</td><td style = \"text-align: left;\">normOld</td><td style = \"text-align: right;\">0.795729</td><td style = \"text-align: right;\">0.187572</td><td style = \"text-align: right;\">0.746433</td><td style = \"text-align: right;\">1.55651</td><td style = \"text-align: right;\">0</td><td style = \"text-align: left;\">Float64</td></tr><tr><td class = \"rowNumber\" style = \"font-weight: bold; text-align: right;\">9</td><td style = \"text-align: left;\">normNew</td><td style = \"text-align: right;\">0.795729</td><td style = \"text-align: right;\">0.187572</td><td style = \"text-align: right;\">0.746433</td><td style = \"text-align: right;\">1.55651</td><td style = \"text-align: right;\">0</td><td style = \"text-align: left;\">Float64</td></tr><tr><td class = \"rowNumber\" style = \"font-weight: bold; text-align: right;\">10</td><td style = \"text-align: left;\">normGen</td><td style = \"text-align: right;\">0.795729</td><td style = \"text-align: right;\">0.187572</td><td style = \"text-align: right;\">0.746433</td><td style = \"text-align: right;\">1.55651</td><td style = \"text-align: right;\">0</td><td style = \"text-align: left;\">Float64</td></tr></tbody></table></div>"
            ],
            "text/latex": "\\begin{tabular}{r|ccccccc}\n\t& variable & mean & min & median & max & nmissing & eltype\\\\\n\t\\hline\n\t& Symbol & Float64 & Float64 & Float64 & Float64 & Int64 & DataType\\\\\n\t\\hline\n\t1 & n & 195.32 & 4.0 & 48.0 & 991.0 & 0 & Float64 \\\\\n\t2 & k & 90.48 & 2.0 & 15.5 & 631.0 & 0 & Float64 \\\\\n\t3 & alpha & 0.753559 & -0.826732 & 0.749545 & 2.06291 & 0 & Float64 \\\\\n\t4 & errOld & 4.27916e-10 & 1.08961e-13 & 3.17228e-11 & 3.00824e-9 & 0 & Float64 \\\\\n\t5 & errNew & 2.42586e-11 & 3.27537e-14 & 2.4049e-12 & 4.56195e-10 & 0 & Float64 \\\\\n\t6 & timeOld & 0.240216 & 0.000586685 & 0.00460323 & 3.49317 & 0 & Float64 \\\\\n\t7 & timeNew & 0.144006 & 0.000207682 & 0.0027298 & 2.05956 & 0 & Float64 \\\\\n\t8 & normOld & 0.795729 & 0.187572 & 0.746433 & 1.55651 & 0 & Float64 \\\\\n\t9 & normNew & 0.795729 & 0.187572 & 0.746433 & 1.55651 & 0 & Float64 \\\\\n\t10 & normGen & 0.795729 & 0.187572 & 0.746433 & 1.55651 & 0 & Float64 \\\\\n\\end{tabular}\n"
          },
          "metadata": {},
          "execution_count": 18
        }
      ]
    },
    {
      "cell_type": "code",
      "source": [
        "# same distance 0.5pi, but pretol=1e-5 -\n",
        "header = vec([\"n\", \"k\",\t\"alpha\",\t\"errOld\",\t\"errNew\",\t\"timeOld\",\t\"timeNew\",\t\"normOld\",\t\"normNew\",\t\"normGen\"])\n",
        "m05p5 = DataFrame(CSV.File(\"max_05_pretol5.csv\", header=false))\n",
        "rename!(m05p5, header)\n",
        "describe(m05p5)"
      ],
      "metadata": {
        "colab": {
          "base_uri": "https://localhost:8080/",
          "height": 312
        },
        "id": "UOf7rfCodtEa",
        "outputId": "8e5b22b6-17c5-40aa-a90a-8e72657a10ad"
      },
      "execution_count": 19,
      "outputs": [
        {
          "output_type": "execute_result",
          "data": {
            "text/plain": [
              "\u001b[1m10×7 DataFrame\u001b[0m\n",
              "\u001b[1m Row \u001b[0m│\u001b[1m variable \u001b[0m\u001b[1m mean          \u001b[0m\u001b[1m min          \u001b[0m\u001b[1m median       \u001b[0m\u001b[1m max           \u001b[0m\u001b[1m nmi\u001b[0m ⋯\n",
              "     │\u001b[90m Symbol   \u001b[0m\u001b[90m Float64       \u001b[0m\u001b[90m Float64      \u001b[0m\u001b[90m Float64      \u001b[0m\u001b[90m Float64       \u001b[0m\u001b[90m Int\u001b[0m ⋯\n",
              "─────┼──────────────────────────────────────────────────────────────────────────\n",
              "   1 │ n         195.32          4.0          48.0          991.0              ⋯\n",
              "   2 │ k          90.48          2.0          15.5          631.0\n",
              "   3 │ alpha       0.753559     -0.826732      0.749545       2.06291\n",
              "   4 │ errOld      4.27916e-10   1.08961e-13   3.17228e-11    3.00824e-9\n",
              "   5 │ errNew      2.38998e-11   2.1155e-14    1.73786e-12    4.66694e-10      ⋯\n",
              "   6 │ timeOld     0.241189      0.000591288   0.00471608     3.55047\n",
              "   7 │ timeNew     0.181335      0.000249446   0.00315943     2.66004\n",
              "   8 │ normOld     0.795729      0.187572      0.746433       1.55651\n",
              "   9 │ normNew     0.795729      0.187572      0.746433       1.55651          ⋯\n",
              "  10 │ normGen     0.795729      0.187572      0.746433       1.55651\n",
              "\u001b[36m                                                               2 columns omitted\u001b[0m"
            ],
            "text/html": [
              "<div><div style = \"float: left;\"><span>10×7 DataFrame</span></div><div style = \"clear: both;\"></div></div><div class = \"data-frame\" style = \"overflow-x: scroll;\"><table class = \"data-frame\" style = \"margin-bottom: 6px;\"><thead><tr class = \"header\"><th class = \"rowNumber\" style = \"font-weight: bold; text-align: right;\">Row</th><th style = \"text-align: left;\">variable</th><th style = \"text-align: left;\">mean</th><th style = \"text-align: left;\">min</th><th style = \"text-align: left;\">median</th><th style = \"text-align: left;\">max</th><th style = \"text-align: left;\">nmissing</th><th style = \"text-align: left;\">eltype</th></tr><tr class = \"subheader headerLastRow\"><th class = \"rowNumber\" style = \"font-weight: bold; text-align: right;\"></th><th title = \"Symbol\" style = \"text-align: left;\">Symbol</th><th title = \"Float64\" style = \"text-align: left;\">Float64</th><th title = \"Float64\" style = \"text-align: left;\">Float64</th><th title = \"Float64\" style = \"text-align: left;\">Float64</th><th title = \"Float64\" style = \"text-align: left;\">Float64</th><th title = \"Int64\" style = \"text-align: left;\">Int64</th><th title = \"DataType\" style = \"text-align: left;\">DataType</th></tr></thead><tbody><tr><td class = \"rowNumber\" style = \"font-weight: bold; text-align: right;\">1</td><td style = \"text-align: left;\">n</td><td style = \"text-align: right;\">195.32</td><td style = \"text-align: right;\">4.0</td><td style = \"text-align: right;\">48.0</td><td style = \"text-align: right;\">991.0</td><td style = \"text-align: right;\">0</td><td style = \"text-align: left;\">Float64</td></tr><tr><td class = \"rowNumber\" style = \"font-weight: bold; text-align: right;\">2</td><td style = \"text-align: left;\">k</td><td style = \"text-align: right;\">90.48</td><td style = \"text-align: right;\">2.0</td><td style = \"text-align: right;\">15.5</td><td style = \"text-align: right;\">631.0</td><td style = \"text-align: right;\">0</td><td style = \"text-align: left;\">Float64</td></tr><tr><td class = \"rowNumber\" style = \"font-weight: bold; text-align: right;\">3</td><td style = \"text-align: left;\">alpha</td><td style = \"text-align: right;\">0.753559</td><td style = \"text-align: right;\">-0.826732</td><td style = \"text-align: right;\">0.749545</td><td style = \"text-align: right;\">2.06291</td><td style = \"text-align: right;\">0</td><td style = \"text-align: left;\">Float64</td></tr><tr><td class = \"rowNumber\" style = \"font-weight: bold; text-align: right;\">4</td><td style = \"text-align: left;\">errOld</td><td style = \"text-align: right;\">4.27916e-10</td><td style = \"text-align: right;\">1.08961e-13</td><td style = \"text-align: right;\">3.17228e-11</td><td style = \"text-align: right;\">3.00824e-9</td><td style = \"text-align: right;\">0</td><td style = \"text-align: left;\">Float64</td></tr><tr><td class = \"rowNumber\" style = \"font-weight: bold; text-align: right;\">5</td><td style = \"text-align: left;\">errNew</td><td style = \"text-align: right;\">2.38998e-11</td><td style = \"text-align: right;\">2.1155e-14</td><td style = \"text-align: right;\">1.73786e-12</td><td style = \"text-align: right;\">4.66694e-10</td><td style = \"text-align: right;\">0</td><td style = \"text-align: left;\">Float64</td></tr><tr><td class = \"rowNumber\" style = \"font-weight: bold; text-align: right;\">6</td><td style = \"text-align: left;\">timeOld</td><td style = \"text-align: right;\">0.241189</td><td style = \"text-align: right;\">0.000591288</td><td style = \"text-align: right;\">0.00471608</td><td style = \"text-align: right;\">3.55047</td><td style = \"text-align: right;\">0</td><td style = \"text-align: left;\">Float64</td></tr><tr><td class = \"rowNumber\" style = \"font-weight: bold; text-align: right;\">7</td><td style = \"text-align: left;\">timeNew</td><td style = \"text-align: right;\">0.181335</td><td style = \"text-align: right;\">0.000249446</td><td style = \"text-align: right;\">0.00315943</td><td style = \"text-align: right;\">2.66004</td><td style = \"text-align: right;\">0</td><td style = \"text-align: left;\">Float64</td></tr><tr><td class = \"rowNumber\" style = \"font-weight: bold; text-align: right;\">8</td><td style = \"text-align: left;\">normOld</td><td style = \"text-align: right;\">0.795729</td><td style = \"text-align: right;\">0.187572</td><td style = \"text-align: right;\">0.746433</td><td style = \"text-align: right;\">1.55651</td><td style = \"text-align: right;\">0</td><td style = \"text-align: left;\">Float64</td></tr><tr><td class = \"rowNumber\" style = \"font-weight: bold; text-align: right;\">9</td><td style = \"text-align: left;\">normNew</td><td style = \"text-align: right;\">0.795729</td><td style = \"text-align: right;\">0.187572</td><td style = \"text-align: right;\">0.746433</td><td style = \"text-align: right;\">1.55651</td><td style = \"text-align: right;\">0</td><td style = \"text-align: left;\">Float64</td></tr><tr><td class = \"rowNumber\" style = \"font-weight: bold; text-align: right;\">10</td><td style = \"text-align: left;\">normGen</td><td style = \"text-align: right;\">0.795729</td><td style = \"text-align: right;\">0.187572</td><td style = \"text-align: right;\">0.746433</td><td style = \"text-align: right;\">1.55651</td><td style = \"text-align: right;\">0</td><td style = \"text-align: left;\">Float64</td></tr></tbody></table></div>"
            ],
            "text/latex": "\\begin{tabular}{r|ccccccc}\n\t& variable & mean & min & median & max & nmissing & eltype\\\\\n\t\\hline\n\t& Symbol & Float64 & Float64 & Float64 & Float64 & Int64 & DataType\\\\\n\t\\hline\n\t1 & n & 195.32 & 4.0 & 48.0 & 991.0 & 0 & Float64 \\\\\n\t2 & k & 90.48 & 2.0 & 15.5 & 631.0 & 0 & Float64 \\\\\n\t3 & alpha & 0.753559 & -0.826732 & 0.749545 & 2.06291 & 0 & Float64 \\\\\n\t4 & errOld & 4.27916e-10 & 1.08961e-13 & 3.17228e-11 & 3.00824e-9 & 0 & Float64 \\\\\n\t5 & errNew & 2.38998e-11 & 2.1155e-14 & 1.73786e-12 & 4.66694e-10 & 0 & Float64 \\\\\n\t6 & timeOld & 0.241189 & 0.000591288 & 0.00471608 & 3.55047 & 0 & Float64 \\\\\n\t7 & timeNew & 0.181335 & 0.000249446 & 0.00315943 & 2.66004 & 0 & Float64 \\\\\n\t8 & normOld & 0.795729 & 0.187572 & 0.746433 & 1.55651 & 0 & Float64 \\\\\n\t9 & normNew & 0.795729 & 0.187572 & 0.746433 & 1.55651 & 0 & Float64 \\\\\n\t10 & normGen & 0.795729 & 0.187572 & 0.746433 & 1.55651 & 0 & Float64 \\\\\n\\end{tabular}\n"
          },
          "metadata": {},
          "execution_count": 19
        }
      ]
    },
    {
      "cell_type": "code",
      "source": [
        "# distance at most 2pi\n",
        "header = vec([\"n\", \"k\",\t\"alpha\",\t\"errOld\",\t\"errNew\",\t\"timeOld\",\t\"timeNew\",\t\"normOld\",\t\"normNew\",\t\"normGen\"])\n",
        "m20 = DataFrame(CSV.File(\"max_20.csv\", header=false))\n",
        "rename!(m20, header)\n",
        "describe(m20)"
      ],
      "metadata": {
        "colab": {
          "base_uri": "https://localhost:8080/",
          "height": 312
        },
        "id": "pSdDtCoMoENj",
        "outputId": "5ea6a63a-de4c-472a-ca10-b6c98acefccb"
      },
      "execution_count": 20,
      "outputs": [
        {
          "output_type": "execute_result",
          "data": {
            "text/plain": [
              "\u001b[1m10×7 DataFrame\u001b[0m\n",
              "\u001b[1m Row \u001b[0m│\u001b[1m variable \u001b[0m\u001b[1m mean         \u001b[0m\u001b[1m min          \u001b[0m\u001b[1m median       \u001b[0m\u001b[1m max        \u001b[0m\u001b[1m nmissin\u001b[0m ⋯\n",
              "     │\u001b[90m Symbol   \u001b[0m\u001b[90m Float64      \u001b[0m\u001b[90m Float64      \u001b[0m\u001b[90m Float64      \u001b[0m\u001b[90m Float64    \u001b[0m\u001b[90m Int64  \u001b[0m ⋯\n",
              "─────┼──────────────────────────────────────────────────────────────────────────\n",
              "   1 │ n         195.32         4.0          48.0          991.0               ⋯\n",
              "   2 │ k          90.48         2.0          15.5          631.0\n",
              "   3 │ alpha       0.753559    -0.826732      0.749545       2.06291\n",
              "   4 │ errOld      0.134594     6.6561e-13    4.54394e-10    1.61237\n",
              "   5 │ errNew      0.00528176   1.23292e-12   2.95398e-11    0.187642          ⋯\n",
              "   6 │ timeOld     0.557739     0.000886699   0.0465941      8.11859\n",
              "   7 │ timeNew     0.347291     0.000352072   0.021976       5.28425\n",
              "   8 │ normOld    14.8671       0.678741      2.87488      421.71\n",
              "   9 │ normNew     2.74631      0.678741      2.69964        5.90342           ⋯\n",
              "  10 │ normGen     3.18291      0.75029       2.98573        6.22605\n",
              "\u001b[36m                                                               2 columns omitted\u001b[0m"
            ],
            "text/html": [
              "<div><div style = \"float: left;\"><span>10×7 DataFrame</span></div><div style = \"clear: both;\"></div></div><div class = \"data-frame\" style = \"overflow-x: scroll;\"><table class = \"data-frame\" style = \"margin-bottom: 6px;\"><thead><tr class = \"header\"><th class = \"rowNumber\" style = \"font-weight: bold; text-align: right;\">Row</th><th style = \"text-align: left;\">variable</th><th style = \"text-align: left;\">mean</th><th style = \"text-align: left;\">min</th><th style = \"text-align: left;\">median</th><th style = \"text-align: left;\">max</th><th style = \"text-align: left;\">nmissing</th><th style = \"text-align: left;\">eltype</th></tr><tr class = \"subheader headerLastRow\"><th class = \"rowNumber\" style = \"font-weight: bold; text-align: right;\"></th><th title = \"Symbol\" style = \"text-align: left;\">Symbol</th><th title = \"Float64\" style = \"text-align: left;\">Float64</th><th title = \"Float64\" style = \"text-align: left;\">Float64</th><th title = \"Float64\" style = \"text-align: left;\">Float64</th><th title = \"Float64\" style = \"text-align: left;\">Float64</th><th title = \"Int64\" style = \"text-align: left;\">Int64</th><th title = \"DataType\" style = \"text-align: left;\">DataType</th></tr></thead><tbody><tr><td class = \"rowNumber\" style = \"font-weight: bold; text-align: right;\">1</td><td style = \"text-align: left;\">n</td><td style = \"text-align: right;\">195.32</td><td style = \"text-align: right;\">4.0</td><td style = \"text-align: right;\">48.0</td><td style = \"text-align: right;\">991.0</td><td style = \"text-align: right;\">0</td><td style = \"text-align: left;\">Float64</td></tr><tr><td class = \"rowNumber\" style = \"font-weight: bold; text-align: right;\">2</td><td style = \"text-align: left;\">k</td><td style = \"text-align: right;\">90.48</td><td style = \"text-align: right;\">2.0</td><td style = \"text-align: right;\">15.5</td><td style = \"text-align: right;\">631.0</td><td style = \"text-align: right;\">0</td><td style = \"text-align: left;\">Float64</td></tr><tr><td class = \"rowNumber\" style = \"font-weight: bold; text-align: right;\">3</td><td style = \"text-align: left;\">alpha</td><td style = \"text-align: right;\">0.753559</td><td style = \"text-align: right;\">-0.826732</td><td style = \"text-align: right;\">0.749545</td><td style = \"text-align: right;\">2.06291</td><td style = \"text-align: right;\">0</td><td style = \"text-align: left;\">Float64</td></tr><tr><td class = \"rowNumber\" style = \"font-weight: bold; text-align: right;\">4</td><td style = \"text-align: left;\">errOld</td><td style = \"text-align: right;\">0.134594</td><td style = \"text-align: right;\">6.6561e-13</td><td style = \"text-align: right;\">4.54394e-10</td><td style = \"text-align: right;\">1.61237</td><td style = \"text-align: right;\">0</td><td style = \"text-align: left;\">Float64</td></tr><tr><td class = \"rowNumber\" style = \"font-weight: bold; text-align: right;\">5</td><td style = \"text-align: left;\">errNew</td><td style = \"text-align: right;\">0.00528176</td><td style = \"text-align: right;\">1.23292e-12</td><td style = \"text-align: right;\">2.95398e-11</td><td style = \"text-align: right;\">0.187642</td><td style = \"text-align: right;\">0</td><td style = \"text-align: left;\">Float64</td></tr><tr><td class = \"rowNumber\" style = \"font-weight: bold; text-align: right;\">6</td><td style = \"text-align: left;\">timeOld</td><td style = \"text-align: right;\">0.557739</td><td style = \"text-align: right;\">0.000886699</td><td style = \"text-align: right;\">0.0465941</td><td style = \"text-align: right;\">8.11859</td><td style = \"text-align: right;\">0</td><td style = \"text-align: left;\">Float64</td></tr><tr><td class = \"rowNumber\" style = \"font-weight: bold; text-align: right;\">7</td><td style = \"text-align: left;\">timeNew</td><td style = \"text-align: right;\">0.347291</td><td style = \"text-align: right;\">0.000352072</td><td style = \"text-align: right;\">0.021976</td><td style = \"text-align: right;\">5.28425</td><td style = \"text-align: right;\">0</td><td style = \"text-align: left;\">Float64</td></tr><tr><td class = \"rowNumber\" style = \"font-weight: bold; text-align: right;\">8</td><td style = \"text-align: left;\">normOld</td><td style = \"text-align: right;\">14.8671</td><td style = \"text-align: right;\">0.678741</td><td style = \"text-align: right;\">2.87488</td><td style = \"text-align: right;\">421.71</td><td style = \"text-align: right;\">0</td><td style = \"text-align: left;\">Float64</td></tr><tr><td class = \"rowNumber\" style = \"font-weight: bold; text-align: right;\">9</td><td style = \"text-align: left;\">normNew</td><td style = \"text-align: right;\">2.74631</td><td style = \"text-align: right;\">0.678741</td><td style = \"text-align: right;\">2.69964</td><td style = \"text-align: right;\">5.90342</td><td style = \"text-align: right;\">0</td><td style = \"text-align: left;\">Float64</td></tr><tr><td class = \"rowNumber\" style = \"font-weight: bold; text-align: right;\">10</td><td style = \"text-align: left;\">normGen</td><td style = \"text-align: right;\">3.18291</td><td style = \"text-align: right;\">0.75029</td><td style = \"text-align: right;\">2.98573</td><td style = \"text-align: right;\">6.22605</td><td style = \"text-align: right;\">0</td><td style = \"text-align: left;\">Float64</td></tr></tbody></table></div>"
            ],
            "text/latex": "\\begin{tabular}{r|ccccccc}\n\t& variable & mean & min & median & max & nmissing & eltype\\\\\n\t\\hline\n\t& Symbol & Float64 & Float64 & Float64 & Float64 & Int64 & DataType\\\\\n\t\\hline\n\t1 & n & 195.32 & 4.0 & 48.0 & 991.0 & 0 & Float64 \\\\\n\t2 & k & 90.48 & 2.0 & 15.5 & 631.0 & 0 & Float64 \\\\\n\t3 & alpha & 0.753559 & -0.826732 & 0.749545 & 2.06291 & 0 & Float64 \\\\\n\t4 & errOld & 0.134594 & 6.6561e-13 & 4.54394e-10 & 1.61237 & 0 & Float64 \\\\\n\t5 & errNew & 0.00528176 & 1.23292e-12 & 2.95398e-11 & 0.187642 & 0 & Float64 \\\\\n\t6 & timeOld & 0.557739 & 0.000886699 & 0.0465941 & 8.11859 & 0 & Float64 \\\\\n\t7 & timeNew & 0.347291 & 0.000352072 & 0.021976 & 5.28425 & 0 & Float64 \\\\\n\t8 & normOld & 14.8671 & 0.678741 & 2.87488 & 421.71 & 0 & Float64 \\\\\n\t9 & normNew & 2.74631 & 0.678741 & 2.69964 & 5.90342 & 0 & Float64 \\\\\n\t10 & normGen & 3.18291 & 0.75029 & 2.98573 & 6.22605 & 0 & Float64 \\\\\n\\end{tabular}\n"
          },
          "metadata": {},
          "execution_count": 20
        }
      ]
    },
    {
      "cell_type": "code",
      "source": [
        "# distance at most 4pi\n",
        "header = vec([\"n\", \"k\",\t\"alpha\",\t\"errOld\",\t\"errNew\",\t\"timeOld\",\t\"timeNew\",\t\"normOld\",\t\"normNew\",\t\"normGen\"])\n",
        "m40 = DataFrame(CSV.File(\"max_40.csv\", header=false))\n",
        "rename!(m40, header)\n",
        "describe(m40)"
      ],
      "metadata": {
        "colab": {
          "base_uri": "https://localhost:8080/",
          "height": 312
        },
        "id": "TuKoveF2ojXR",
        "outputId": "8e3dc108-d2ac-4512-f409-f22d54a4917c"
      },
      "execution_count": 21,
      "outputs": [
        {
          "output_type": "execute_result",
          "data": {
            "text/plain": [
              "\u001b[1m10×7 DataFrame\u001b[0m\n",
              "\u001b[1m Row \u001b[0m│\u001b[1m variable \u001b[0m\u001b[1m mean       \u001b[0m\u001b[1m min          \u001b[0m\u001b[1m median      \u001b[0m\u001b[1m max          \u001b[0m\u001b[1m nmissing\u001b[0m ⋯\n",
              "     │\u001b[90m Symbol   \u001b[0m\u001b[90m Float64    \u001b[0m\u001b[90m Float64      \u001b[0m\u001b[90m Float64     \u001b[0m\u001b[90m Float64      \u001b[0m\u001b[90m Int64   \u001b[0m ⋯\n",
              "─────┼──────────────────────────────────────────────────────────────────────────\n",
              "   1 │ n         195.32       4.0          48.0          991.0               0 ⋯\n",
              "   2 │ k          90.48       2.0          15.5          631.0               0\n",
              "   3 │ alpha       0.753559  -0.826732      0.749545       2.06291           0\n",
              "   4 │ errOld      0.298122   5.61147e-12   2.86051e-9     1.49669           0\n",
              "   5 │ errNew      0.004296   1.65024e-12   0.00031112     0.0973246         0 ⋯\n",
              "   6 │ timeOld     1.75037    0.00166939    0.159145      19.7766            0\n",
              "   7 │ timeNew     1.11658    0.000616452   0.0552578     12.5347            0\n",
              "   8 │ normOld   255.505      1.13853       5.9207      3956.51              0\n",
              "   9 │ normNew     4.78403    1.08137       4.1965        11.8179            0 ⋯\n",
              "  10 │ normGen     6.36583    1.50058       5.97146       12.4521            0\n",
              "\u001b[36m                                                                1 column omitted\u001b[0m"
            ],
            "text/html": [
              "<div><div style = \"float: left;\"><span>10×7 DataFrame</span></div><div style = \"clear: both;\"></div></div><div class = \"data-frame\" style = \"overflow-x: scroll;\"><table class = \"data-frame\" style = \"margin-bottom: 6px;\"><thead><tr class = \"header\"><th class = \"rowNumber\" style = \"font-weight: bold; text-align: right;\">Row</th><th style = \"text-align: left;\">variable</th><th style = \"text-align: left;\">mean</th><th style = \"text-align: left;\">min</th><th style = \"text-align: left;\">median</th><th style = \"text-align: left;\">max</th><th style = \"text-align: left;\">nmissing</th><th style = \"text-align: left;\">eltype</th></tr><tr class = \"subheader headerLastRow\"><th class = \"rowNumber\" style = \"font-weight: bold; text-align: right;\"></th><th title = \"Symbol\" style = \"text-align: left;\">Symbol</th><th title = \"Float64\" style = \"text-align: left;\">Float64</th><th title = \"Float64\" style = \"text-align: left;\">Float64</th><th title = \"Float64\" style = \"text-align: left;\">Float64</th><th title = \"Float64\" style = \"text-align: left;\">Float64</th><th title = \"Int64\" style = \"text-align: left;\">Int64</th><th title = \"DataType\" style = \"text-align: left;\">DataType</th></tr></thead><tbody><tr><td class = \"rowNumber\" style = \"font-weight: bold; text-align: right;\">1</td><td style = \"text-align: left;\">n</td><td style = \"text-align: right;\">195.32</td><td style = \"text-align: right;\">4.0</td><td style = \"text-align: right;\">48.0</td><td style = \"text-align: right;\">991.0</td><td style = \"text-align: right;\">0</td><td style = \"text-align: left;\">Float64</td></tr><tr><td class = \"rowNumber\" style = \"font-weight: bold; text-align: right;\">2</td><td style = \"text-align: left;\">k</td><td style = \"text-align: right;\">90.48</td><td style = \"text-align: right;\">2.0</td><td style = \"text-align: right;\">15.5</td><td style = \"text-align: right;\">631.0</td><td style = \"text-align: right;\">0</td><td style = \"text-align: left;\">Float64</td></tr><tr><td class = \"rowNumber\" style = \"font-weight: bold; text-align: right;\">3</td><td style = \"text-align: left;\">alpha</td><td style = \"text-align: right;\">0.753559</td><td style = \"text-align: right;\">-0.826732</td><td style = \"text-align: right;\">0.749545</td><td style = \"text-align: right;\">2.06291</td><td style = \"text-align: right;\">0</td><td style = \"text-align: left;\">Float64</td></tr><tr><td class = \"rowNumber\" style = \"font-weight: bold; text-align: right;\">4</td><td style = \"text-align: left;\">errOld</td><td style = \"text-align: right;\">0.298122</td><td style = \"text-align: right;\">5.61147e-12</td><td style = \"text-align: right;\">2.86051e-9</td><td style = \"text-align: right;\">1.49669</td><td style = \"text-align: right;\">0</td><td style = \"text-align: left;\">Float64</td></tr><tr><td class = \"rowNumber\" style = \"font-weight: bold; text-align: right;\">5</td><td style = \"text-align: left;\">errNew</td><td style = \"text-align: right;\">0.004296</td><td style = \"text-align: right;\">1.65024e-12</td><td style = \"text-align: right;\">0.00031112</td><td style = \"text-align: right;\">0.0973246</td><td style = \"text-align: right;\">0</td><td style = \"text-align: left;\">Float64</td></tr><tr><td class = \"rowNumber\" style = \"font-weight: bold; text-align: right;\">6</td><td style = \"text-align: left;\">timeOld</td><td style = \"text-align: right;\">1.75037</td><td style = \"text-align: right;\">0.00166939</td><td style = \"text-align: right;\">0.159145</td><td style = \"text-align: right;\">19.7766</td><td style = \"text-align: right;\">0</td><td style = \"text-align: left;\">Float64</td></tr><tr><td class = \"rowNumber\" style = \"font-weight: bold; text-align: right;\">7</td><td style = \"text-align: left;\">timeNew</td><td style = \"text-align: right;\">1.11658</td><td style = \"text-align: right;\">0.000616452</td><td style = \"text-align: right;\">0.0552578</td><td style = \"text-align: right;\">12.5347</td><td style = \"text-align: right;\">0</td><td style = \"text-align: left;\">Float64</td></tr><tr><td class = \"rowNumber\" style = \"font-weight: bold; text-align: right;\">8</td><td style = \"text-align: left;\">normOld</td><td style = \"text-align: right;\">255.505</td><td style = \"text-align: right;\">1.13853</td><td style = \"text-align: right;\">5.9207</td><td style = \"text-align: right;\">3956.51</td><td style = \"text-align: right;\">0</td><td style = \"text-align: left;\">Float64</td></tr><tr><td class = \"rowNumber\" style = \"font-weight: bold; text-align: right;\">9</td><td style = \"text-align: left;\">normNew</td><td style = \"text-align: right;\">4.78403</td><td style = \"text-align: right;\">1.08137</td><td style = \"text-align: right;\">4.1965</td><td style = \"text-align: right;\">11.8179</td><td style = \"text-align: right;\">0</td><td style = \"text-align: left;\">Float64</td></tr><tr><td class = \"rowNumber\" style = \"font-weight: bold; text-align: right;\">10</td><td style = \"text-align: left;\">normGen</td><td style = \"text-align: right;\">6.36583</td><td style = \"text-align: right;\">1.50058</td><td style = \"text-align: right;\">5.97146</td><td style = \"text-align: right;\">12.4521</td><td style = \"text-align: right;\">0</td><td style = \"text-align: left;\">Float64</td></tr></tbody></table></div>"
            ],
            "text/latex": "\\begin{tabular}{r|ccccccc}\n\t& variable & mean & min & median & max & nmissing & eltype\\\\\n\t\\hline\n\t& Symbol & Float64 & Float64 & Float64 & Float64 & Int64 & DataType\\\\\n\t\\hline\n\t1 & n & 195.32 & 4.0 & 48.0 & 991.0 & 0 & Float64 \\\\\n\t2 & k & 90.48 & 2.0 & 15.5 & 631.0 & 0 & Float64 \\\\\n\t3 & alpha & 0.753559 & -0.826732 & 0.749545 & 2.06291 & 0 & Float64 \\\\\n\t4 & errOld & 0.298122 & 5.61147e-12 & 2.86051e-9 & 1.49669 & 0 & Float64 \\\\\n\t5 & errNew & 0.004296 & 1.65024e-12 & 0.00031112 & 0.0973246 & 0 & Float64 \\\\\n\t6 & timeOld & 1.75037 & 0.00166939 & 0.159145 & 19.7766 & 0 & Float64 \\\\\n\t7 & timeNew & 1.11658 & 0.000616452 & 0.0552578 & 12.5347 & 0 & Float64 \\\\\n\t8 & normOld & 255.505 & 1.13853 & 5.9207 & 3956.51 & 0 & Float64 \\\\\n\t9 & normNew & 4.78403 & 1.08137 & 4.1965 & 11.8179 & 0 & Float64 \\\\\n\t10 & normGen & 6.36583 & 1.50058 & 5.97146 & 12.4521 & 0 & Float64 \\\\\n\\end{tabular}\n"
          },
          "metadata": {},
          "execution_count": 21
        }
      ]
    },
    {
      "cell_type": "markdown",
      "source": [
        "Displaying the full data table for $4\\pi$. Here, there are several examples where log is beter than $f\\pi|X|$."
      ],
      "metadata": {
        "id": "LIpcn_pQSXOj"
      }
    },
    {
      "cell_type": "code",
      "source": [
        "show(m40, allrows=true, allcols=true)"
      ],
      "metadata": {
        "colab": {
          "base_uri": "https://localhost:8080/"
        },
        "id": "M9VafDfepiTf",
        "outputId": "0a4a9eb4-6440-4806-edaa-1567d364c41b"
      },
      "execution_count": 22,
      "outputs": [
        {
          "output_type": "stream",
          "name": "stdout",
          "text": [
            "\u001b[1m50×10 DataFrame\u001b[0m\n",
            "\u001b[1m Row \u001b[0m│\u001b[1m n       \u001b[0m\u001b[1m k       \u001b[0m\u001b[1m alpha      \u001b[0m\u001b[1m errOld      \u001b[0m\u001b[1m errNew      \u001b[0m\u001b[1m timeOld     \u001b[0m\u001b[1m timeNew      \u001b[0m\u001b[1m normOld    \u001b[0m\u001b[1m normNew  \u001b[0m\u001b[1m normGen  \u001b[0m\n",
            "     │\u001b[90m Float64 \u001b[0m\u001b[90m Float64 \u001b[0m\u001b[90m Float64    \u001b[0m\u001b[90m Float64     \u001b[0m\u001b[90m Float64     \u001b[0m\u001b[90m Float64     \u001b[0m\u001b[90m Float64      \u001b[0m\u001b[90m Float64    \u001b[0m\u001b[90m Float64  \u001b[0m\u001b[90m Float64  \u001b[0m\n",
            "─────┼───────────────────────────────────────────────────────────────────────────────────────────────────────────────────\n",
            "   1 │    20.0      3.0   1.68642    0.876103     0.00843188    0.1343       0.0188507       8.50409   4.44371   4.59415\n",
            "   2 │    95.0      9.0   0.0392704  1.32006e-9   7.21565e-10   0.00733889   0.00925292      3.48271   3.48271   3.48271\n",
            "   3 │   818.0    631.0   0.213541   5.61147e-12  6.50801e-12   7.16874      3.80483         3.51431   3.51431   3.51431\n",
            "   4 │   110.0     76.0   1.957      0.562042     0.00622488    6.90485      2.73808      3143.02      8.75221   8.75513\n",
            "   5 │    56.0     25.0  -0.826732   1.82116e-9   6.80746e-11   0.0621894    0.026656        3.12626   3.12626   3.12626\n",
            "   6 │   185.0     42.0  -0.0805532  0.400368     0.00650709    2.53322      1.1249         31.7929   11.6229   11.6148\n",
            "   7 │   477.0    332.0  -0.764934   7.04237e-11  2.95319e-11   4.78785      2.19183         8.27511   8.27511   8.27511\n",
            "   8 │    44.0     15.0   0.558682   0.783304     0.00769035    0.527139     0.326945     1166.85      7.08741   9.23893\n",
            "   9 │     4.0      3.0   0.971937   1.09323      1.76501e-7    0.122776     0.0208491       2.51304   1.08137   6.43773\n",
            "  10 │    83.0     51.0  -0.730182   1.41692e-9   7.93421e-11   0.284357     0.125299        7.66401   7.66401   7.66401\n",
            "  11 │     6.0      2.0   1.61998    4.69254e-9   0.000943768   0.0031696    0.0136294       1.7169    1.71806  10.7153\n",
            "  12 │    99.0     42.0  -0.443852   5.66934e-10  0.00108072    0.0785818    0.76332         8.165     8.16525   8.165\n",
            "  13 │    31.0     11.0   0.922384   2.33526e-10  2.06178e-11   0.00420308   0.00284298      1.60107   1.60107   1.60107\n",
            "  14 │   473.0    109.0   0.682749   3.77021e-10  5.34088e-10   0.878399     1.00865        10.4778   10.4778   10.4778\n",
            "  15 │   934.0    542.0   1.36606    3.88868e-11  1.07816e-11  12.3278       6.9495          6.0528    6.0528    6.0528\n",
            "  16 │   939.0      6.0   0.209802   0.245745     0.00215842    0.22772      0.0344073      12.6425    6.30824   6.30547\n",
            "  17 │   263.0     43.0   0.404611   3.32227e-10  4.30769e-11   0.0506599    0.0487831       5.65921   5.65921   5.65921\n",
            "  18 │    48.0     45.0   0.510312   0.592425     0.00339163    1.85467      0.398128      410.29      4.1673    4.16225\n",
            "  19 │    26.0      3.0   0.418006   0.788314     0.00301905    0.134098     0.0223503       8.18511   2.98937  12.4521\n",
            "  20 │    23.0     12.0   1.41382    3.12259e-9   2.20853e-10   0.0215961    0.0347166       2.80244   2.80244   2.80244\n",
            "  21 │    48.0     32.0  -0.586777   1.5076e-10   7.57309e-11   0.0148892    0.0123592       4.44961   4.44961   4.44961\n",
            "  22 │    11.0      4.0   1.67119    1.05014      0.00396099    0.156312     0.024062      235.347     2.52105   4.40546\n",
            "  23 │   175.0    127.0   1.8282     0.440624     0.00759595   19.7766       7.84254      3956.51     11.3994   11.3975\n",
            "  24 │   156.0     96.0   1.24567    1.15144e-10  4.1281e-12    0.0808796    0.0614842       1.50058   1.50058   1.50058\n",
            "  25 │   513.0    335.0   0.0804244  1.28105e-11  4.26684e-12   2.17383      1.27718         5.13936   5.13936   5.13936\n",
            "  26 │     4.0      3.0   1.97394    1.2747       0.000741415   0.123702     0.02243         3.6849    1.25588   6.12208\n",
            "  27 │    25.0      5.0   2.06291    0.755024     0.0973246     0.168538     0.0514116       9.37764   4.23431   8.34098\n",
            "  28 │   551.0    493.0   1.09814    1.38548e-11  4.33628e-12   3.7702       1.80004         2.61355   2.61355   2.61355\n",
            "  29 │    12.0      2.0   1.99666    4.13674e-9   0.00037416    0.00456937   0.0153933       1.9299    1.93065   1.9299\n",
            "  30 │    39.0     16.0   1.48803    0.75175      0.0108209     0.549528     0.353652     1619.7       6.06664   8.74599\n",
            "  31 │    39.0     13.0   0.540123   0.685525     0.00611086    0.374096     0.25289        14.1827    5.89669   5.89012\n",
            "  32 │   494.0    393.0   1.46246    1.62335e-10  6.27296e-11  11.4868       5.01988         8.54615   8.54615   8.54615\n",
            "  33 │    96.0     34.0   0.730281   1.47794e-9   2.30629e-9    0.114337     0.255278        5.71093   5.71093   5.71093\n",
            "  34 │    12.0     10.0   1.99384    1.24203      0.00643323    0.240348     0.0591039     454.734     3.69673  10.8021\n",
            "  35 │     4.0      2.0   0.322768   1.53975e-9   1.99339e-10   0.00166939   0.000616452     1.3564    1.3564   11.2874\n",
            "  36 │     4.0      3.0   0.76881    1.49669      0.00801074    0.127767     0.0170638      22.1159    2.95533   2.96163\n",
            "  37 │   411.0    150.0   0.273437   1.41399e-11  1.65024e-12   0.204982     0.20924         1.71182   1.71182   1.71182\n",
            "  38 │    26.0     13.0  -0.118139   1.70081e-10  1.37104e-11   0.00369123   0.00251183      1.51001   1.51001   1.51001\n",
            "  39 │   449.0    150.0   1.62944    4.25629e-10  0.00223573    3.83256     12.5347         11.8068   11.8179   11.8068\n",
            "  40 │    37.0     21.0  -0.0807755  0.77081      0.00831237    0.804372     0.334937     1349.0       7.28249   7.30262\n",
            "  41 │     6.0      2.0  -0.126533   2.59842e-9   0.00024808    0.00268986   0.0132166       1.96532   1.96496  12.4385\n",
            "  42 │     4.0      2.0   0.990365   1.03831e-8   0.00567181    0.0123796    0.0178685       2.37627   2.36707   2.37627\n",
            "  43 │     7.0      5.0   1.44484    1.09725      0.00348327    0.161979     0.0244741     181.418     2.05314   3.98115\n",
            "  44 │   675.0    242.0   1.53307    3.27108e-11  1.09356e-11   1.56541      1.23105         5.7886    5.7886    5.7886\n",
            "  45 │   991.0    237.0   1.28012    1.20994e-11  1.43421e-11   1.39591      1.19443         6.46559   6.46559   6.46559\n",
            "  46 │     5.0      4.0  -0.732306   6.78183e-9   0.00648553    0.0491759    0.0228629       4.21292   4.2257    4.21292\n",
            "  47 │    72.0      2.0   0.974966   3.41507e-9   3.66453e-11   0.00788972   0.000904446     1.13853   1.13853   9.59158\n",
            "  48 │     4.0      3.0   1.65957    7.16511e-9   0.00222793    0.00474155   0.0156941       2.11527   2.11812   3.66955\n",
            "  49 │    19.0      4.0   0.264634   1.23792e-9   2.78037e-11   0.00185574   0.000867797     1.56919   1.56919   1.56919\n",
            "  50 │   143.0    119.0  -0.11974    6.83094e-10  0.00531437    2.19294      3.49704        10.9268   10.9235   10.9268"
          ]
        }
      ]
    },
    {
      "cell_type": "markdown",
      "metadata": {
        "id": "MZaWlNkiuGJT"
      },
      "source": [
        "# VERIFY FRECHET DERIVATIVE AND THE TRACE FORMULA"
      ]
    },
    {
      "cell_type": "code",
      "metadata": {
        "colab": {
          "base_uri": "https://localhost:8080/"
        },
        "id": "lTqU4AzruLJW",
        "outputId": "b3086d79-9385-4b8a-a007-7f95ebf9ca15"
      },
      "source": [
        "n = 5\n",
        "A = 0.1*(reshape(0:(n*n-1), n, n)' .% 7) + UniformScaling(0.5)\n",
        "E = reshape(0:(n*n-1), n, n)'\n",
        "# E = E .* E\n",
        "E = (E .* E) .% 23\n",
        "\n",
        "e1 = exp(A)\n",
        "dlt = 1e-8\n",
        "e2 = exp(A + dlt*E)\n",
        "println(\"VERIFYING FRECHET DERIVATIVE\")\n",
        "(e2-e1)/dlt\n",
        "# expm_frechet_algo_64(A, E)[2]\n",
        "println(linf((e2-e1)/dlt - Manifolds.expm_frechet(A, E)[2]))\n",
        "\n",
        "println(\"VERIFYING THE TRACE FORMULA\")\n",
        "C = randn(n, n)\n",
        "D = randn(n, n)\n",
        "println(tr(C*Manifolds.expm_frechet(A, E)[2]*D))\n",
        "println(tr(Manifolds.expm_frechet(A, D*C)[2]*E))"
      ],
      "execution_count": 24,
      "outputs": [
        {
          "output_type": "stream",
          "name": "stdout",
          "text": [
            "VERIFYING FRECHET DERIVATIVE\n",
            "1.4476886789793753e-5\n",
            "VERIFYING THE TRACE FORMULA\n",
            "140.29041080348276\n",
            "140.2904108034828\n"
          ]
        }
      ]
    }
  ]
}